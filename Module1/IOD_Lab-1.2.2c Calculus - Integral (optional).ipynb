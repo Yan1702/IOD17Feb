{
 "cells": [
  {
   "cell_type": "markdown",
   "metadata": {
    "id": "YPFbgplmKcYp"
   },
   "source": [
    "<div>\n",
    "<img src=https://www.institutedata.com/wp-content/uploads/2019/10/iod_h_tp_primary_c.svg width=\"300\">\n",
    "</div>\n",
    "\n",
    "# Calculus - Integral"
   ]
  },
  {
   "cell_type": "markdown",
   "metadata": {
    "id": "RoHMhRo6p1RT"
   },
   "source": [
    "In this lab you will find the integral of a function from first principles - as the limit of the area under a function's graph as the width of rectangles approximating the area tends to zero."
   ]
  },
  {
   "cell_type": "code",
   "execution_count": 3,
   "metadata": {
    "id": "NxkLjNxUKcYr"
   },
   "outputs": [],
   "source": [
    "import numpy as np\n",
    "import matplotlib.pyplot as plt\n",
    "# get matplot to show charts inline\n",
    "%matplotlib inline"
   ]
  },
  {
   "cell_type": "code",
   "execution_count": 4,
   "metadata": {
    "id": "49k4u8lCKcYy"
   },
   "outputs": [],
   "source": [
    "# define a function such as f(x) = x**2\n",
    "def f(x):\n",
    "  return x**2"
   ]
  },
  {
   "cell_type": "code",
   "execution_count": 5,
   "metadata": {
    "id": "lrcZ0mY6KcZD"
   },
   "outputs": [
    {
     "data": {
      "image/png": "[encoded data removed]",
      "text/plain": [
       "<Figure size 640x480 with 1 Axes>"
      ]
     },
     "metadata": {},
     "output_type": "display_data"
    }
   ],
   "source": [
    "# plot f(x)\n",
    "x = np.arange(-10, 11, 1)\n",
    "y = f(x)\n",
    "\n",
    "plt.plot(x, y)\n",
    "plt.xlabel('x')\n",
    "plt.ylabel('f(x)')\n",
    "plt.grid()\n",
    "plt.show()"
   ]
  },
  {
   "cell_type": "code",
   "execution_count": 6,
   "metadata": {
    "id": "VBkIo2EpKcY3"
   },
   "outputs": [
    {
     "name": "stdout",
     "output_type": "stream",
     "text": [
      "f(2) =  4\n",
      "f(5) =  25\n",
      "f(-3) =  9\n"
     ]
    }
   ],
   "source": [
    "# test the function you defined above by simply print its value for some numbers\n",
    "print('f(2) = ', f(2))\n",
    "print('f(5) = ', f(5))\n",
    "print('f(-3) = ', f(-3))"
   ]
  },
  {
   "cell_type": "code",
   "execution_count": 7,
   "metadata": {
    "id": "4sX3AWgcKcZM"
   },
   "outputs": [],
   "source": [
    "# define integral of f(x)\n",
    "# integral of a function is the area under the curve of this function\n",
    "# it can be approximated by plotting lots of rectangles and add their areas\n",
    "# the more rectangles you draw, the better is the approximation\n",
    "# but why do it by hand where python can do a much better job?!\n",
    "def integral(startX, endX, numberOfRectangles):\n",
    "    width = (float(endX) - float(startX)) / numberOfRectangles\n",
    "    totalArea = 0\n",
    "    for i in range(numberOfRectangles):\n",
    "        height = (startX + i * width) ** 2\n",
    "        area = width * height\n",
    "        totalArea += area\n",
    "    return totalArea"
   ]
  },
  {
   "cell_type": "code",
   "execution_count": 8,
   "metadata": {
    "id": "oS70agDbKcZR"
   },
   "outputs": [
    {
     "name": "stdout",
     "output_type": "stream",
     "text": [
      "integral(2.0,4.0,10) =  17.480000000000004\n",
      "integral(2.0,4.0,1000) =  18.654668000000008\n",
      "-----\n",
      "integral(-1.0,2.0,10) =  2.5949999999999993\n",
      "integral(-1.0,2.0,1000) =  2.9955045000000005\n"
     ]
    }
   ],
   "source": [
    "# calculate integral of f(x) for some startX, endX and a number of rectangles\n",
    "print('integral(2.0,4.0,10) = ',integral(2.0,4.0,10))\n",
    "print('integral(2.0,4.0,1000) = ',integral(2.0,4.0,1000))\n",
    "print('-----')\n",
    "print('integral(-1.0,2.0,10) = ',integral(-1.0,2.0,10))\n",
    "print('integral(-1.0,2.0,1000) = ',integral(-1.0,2.0,1000))"
   ]
  },
  {
   "cell_type": "code",
   "execution_count": 9,
   "metadata": {
    "id": "ZUTH_Kwopzzx"
   },
   "outputs": [
    {
     "data": {
      "text/latex": [
       "$\\displaystyle \\frac{56}{3}$"
      ],
      "text/plain": [
       "56/3"
      ]
     },
     "execution_count": 9,
     "metadata": {},
     "output_type": "execute_result"
    }
   ],
   "source": [
    "# Check the answer using sympy:\n",
    "\n",
    "# !pip install sympy # uncomment this line if sympy has not been installed\n",
    "from sympy import symbols, integrate\n",
    "x = symbols('x')\n",
    "f = x**2\n",
    "integrate(f, (x, 2, 4))"
   ]
  },
  {
   "cell_type": "code",
   "execution_count": 10,
   "metadata": {
    "id": "bjjTTKAMqced"
   },
   "outputs": [
    {
     "data": {
      "text/latex": [
       "$\\displaystyle 3$"
      ],
      "text/plain": [
       "3"
      ]
     },
     "execution_count": 10,
     "metadata": {},
     "output_type": "execute_result"
    }
   ],
   "source": [
    "integrate(f, (x, -1, 2))"
   ]
  },
  {
   "cell_type": "markdown",
   "metadata": {
    "id": "JJ0gDK-OpoqJ"
   },
   "source": [
    "\n",
    "\n",
    "---\n",
    "\n",
    "\n",
    "\n",
    "---\n",
    "\n",
    "\n",
    "\n",
    "> > > > > > > > > © 2025 Institute of Data\n",
    "\n",
    "\n",
    "---\n",
    "\n",
    "\n",
    "\n",
    "---\n",
    "\n",
    "\n",
    "\n"
   ]
  }
 ],
 "metadata": {
  "colab": {
   "provenance": [
    {
     "file_id": "https://github.com/ikfaisal/dsia/blob/master/Calculus_Integral.ipynb",
     "timestamp": 1552459796323
    }
   ]
  },
  "kernelspec": {
   "display_name": "Python [conda env:base] *",
   "language": "python",
   "name": "conda-base-py"
  },
  "language_info": {
   "codemirror_mode": {
    "name": "ipython",
    "version": 3
   },
   "file_extension": ".py",
   "mimetype": "text/x-python",
   "name": "python",
   "nbconvert_exporter": "python",
   "pygments_lexer": "ipython3",
   "version": "3.12.7"
  }
 },
 "nbformat": 4,
 "nbformat_minor": 4
}
