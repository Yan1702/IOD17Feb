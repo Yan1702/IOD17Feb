{
  "cells": [
    {
      "cell_type": "markdown",
      "metadata": {
        "id": "Nji1a9ULLtCA"
      },
      "source": [
        "<div>\n",
        "<img src=https://www.institutedata.com/wp-content/uploads/2019/10/iod_h_tp_primary_c.svg width=\"300\">\n",
        "</div>"
      ]
    },
    {
      "cell_type": "markdown",
      "metadata": {
        "id": "fnsX1AWKLtCE"
      },
      "source": [
        "# Lab 8.4: Text Classification\n",
        "\n",
        "In this lab you will implement different types of feature engineering for text classification:\n",
        "* Count vectors\n",
        "* TF-IDF vectors (word level, n-gram level, character level)\n",
        "* Text/NLP based features\n",
        "* Topic models\n",
        "  \n",
        "The following classification algorithms will be applied to the count and TF-IDF vector features:\n",
        "* Naïve Bayes\n",
        "* Logistic Regression\n",
        "* Support Vector Machine\n",
        "* Random Forest\n",
        "* Gradient Boosting"
      ]
    },
    {
      "cell_type": "markdown",
      "metadata": {
        "id": "6pm8PttyLtCI"
      },
      "source": [
        "## Import libraries"
      ]
    },
    {
      "cell_type": "code",
      "execution_count": 1,
      "metadata": {
        "ExecuteTime": {
          "end_time": "2019-06-17T01:38:33.182995Z",
          "start_time": "2019-06-17T01:38:30.045388Z"
        },
        "id": "EUANiH6zLtCK"
      },
      "outputs": [],
      "source": [
        "## Import Libraries\n",
        "import numpy as np\n",
        "import pandas as pd\n",
        "\n",
        "import string\n",
        "import spacy\n",
        "\n",
        "from collections import Counter\n",
        "\n",
        "from sklearn.decomposition import LatentDirichletAllocation\n",
        "from sklearn.ensemble import GradientBoostingClassifier\n",
        "from sklearn.ensemble import RandomForestClassifier\n",
        "from sklearn.feature_extraction.text import CountVectorizer\n",
        "from sklearn.feature_extraction.text import TfidfVectorizer\n",
        "from sklearn.linear_model import LogisticRegression\n",
        "from sklearn.metrics import accuracy_score\n",
        "from sklearn.model_selection import train_test_split\n",
        "from sklearn.naive_bayes import MultinomialNB\n",
        "from sklearn.svm import LinearSVC\n",
        "\n",
        "# import warnings\n",
        "# warnings.filterwarnings('ignore')"
      ]
    },
    {
      "cell_type": "markdown",
      "metadata": {
        "id": "58bUNQA0LtCV"
      },
      "source": [
        "## Load data"
      ]
    },
    {
      "cell_type": "markdown",
      "metadata": {
        "id": "UqU7d_qcLtCX"
      },
      "source": [
        "Sample:\n",
        "\n",
        "    __label__2 Stuning even for the non-gamer: This sound ...\n",
        "    __label__2 The best soundtrack ever to anything.: I'm ...\n",
        "    __label__2 Amazing!: This soundtrack is my favorite m ...\n",
        "    __label__2 Excellent Soundtrack: I truly like this so ...\n",
        "    __label__2 Remember, Pull Your Jaw Off The Floor Afte ...\n",
        "    __label__2 an absolute masterpiece: I am quite sure a ...\n",
        "    __label__1 Buyer beware: This is a self-published boo ...\n",
        "    . . .\n",
        "    \n",
        "There are only two **labels**:\n",
        "- `__label__1`\n",
        "- `__label__2`"
      ]
    },
    {
      "cell_type": "code",
      "execution_count": 2,
      "metadata": {
        "ExecuteTime": {
          "end_time": "2019-06-17T01:38:42.024845Z",
          "start_time": "2019-06-17T01:38:41.896098Z"
        },
        "id": "rwWFJprZLtCZ"
      },
      "outputs": [],
      "source": [
        "## Loading the data\n",
        "\n",
        "df_corpus = pd.read_fwf(\n",
        "    filepath_or_buffer = 'corpus.txt',\n",
        "    colspecs = [(9, 10),   # label: get only the numbers 1 or 2\n",
        "                (11, 9000) # text: makes the it big enough to get to the end of the line\n",
        "               ],\n",
        "    header = 0,\n",
        "    names = ['label', 'text'],\n",
        "    lineterminator = '\\n'\n",
        ")\n",
        "\n",
        "# convert label from [1, 2] to [0, 1]\n",
        "df_corpus['label'] = df_corpus['label'] - 1"
      ]
    },
    {
      "cell_type": "markdown",
      "metadata": {
        "id": "mILVIHomLtCf"
      },
      "source": [
        "## Inspect the data"
      ]
    },
    {
      "cell_type": "code",
      "execution_count": 3,
      "metadata": {
        "ExecuteTime": {
          "end_time": "2019-06-17T01:39:24.213192Z",
          "start_time": "2019-06-17T01:39:24.209202Z"
        },
        "id": "G9_8RbOeLtCh",
        "colab": {
          "base_uri": "https://localhost:8080/"
        },
        "outputId": "4513479a-89cc-49b7-ed2e-c16563bbaf0a"
      },
      "outputs": [
        {
          "output_type": "stream",
          "name": "stdout",
          "text": [
            "<class 'pandas.core.frame.DataFrame'>\n",
            "RangeIndex: 9999 entries, 0 to 9998\n",
            "Data columns (total 2 columns):\n",
            " #   Column  Non-Null Count  Dtype \n",
            "---  ------  --------------  ----- \n",
            " 0   label   9999 non-null   int64 \n",
            " 1   text    9999 non-null   object\n",
            "dtypes: int64(1), object(1)\n",
            "memory usage: 156.4+ KB\n",
            "None\n",
            "      label                                               text\n",
            "5080      1  Great Science Fiction: I read books for \"escap...\n",
            "5790      1  All-Star Lineup: This is a very good recording...\n",
            "6326      0  Not what she wanted: Bought this for my wife o...\n",
            "628       1  I love It!: it does what it is supposed to do ...\n",
            "8598      0  In-line Writing Style: This is the worst progr...\n",
            "3033      0  Fun movie, but not worth buying at this price-...\n",
            "7637      0  I'm Baffled: I've tried a couple of times to r...\n",
            "2572      0  Buy a different jujitsu book: I bought it befo...\n",
            "1431      1  Amazingly Beautiful: I own over 800 CD's and t...\n",
            "8657      1  Great: A good one... and a few more words to f...\n"
          ]
        }
      ],
      "source": [
        "# ANSWER\n",
        "print(df_corpus.info())\n",
        "print(df_corpus.sample(10))"
      ]
    },
    {
      "cell_type": "markdown",
      "metadata": {
        "id": "6YmYgG2pLtCu"
      },
      "source": [
        "## Split the data into train and test"
      ]
    },
    {
      "cell_type": "code",
      "execution_count": 4,
      "metadata": {
        "ExecuteTime": {
          "end_time": "2019-06-17T01:39:40.103737Z",
          "start_time": "2019-06-17T01:39:40.100739Z"
        },
        "id": "j5vErjWFLtCy"
      },
      "outputs": [],
      "source": [
        "## ANSWER\n",
        "## split the dataset\n",
        "X_train, X_test, y_train, y_test = train_test_split(\n",
        "    df_corpus['text'],\n",
        "    df_corpus['label'],\n",
        "    test_size = 0.2,\n",
        "    random_state = 42\n",
        ")"
      ]
    },
    {
      "cell_type": "markdown",
      "metadata": {
        "id": "6nUp6oDOLtC1"
      },
      "source": [
        "## Feature Engineering"
      ]
    },
    {
      "cell_type": "markdown",
      "metadata": {
        "id": "fKd9yTnyLtC2"
      },
      "source": [
        "### Count Vectors as features"
      ]
    },
    {
      "cell_type": "code",
      "execution_count": 5,
      "metadata": {
        "ExecuteTime": {
          "end_time": "2019-06-17T01:40:32.674674Z",
          "start_time": "2019-06-17T01:40:31.098889Z"
        },
        "id": "DU2RqqDjLtC3"
      },
      "outputs": [],
      "source": [
        "# create a count vectorizer object\n",
        "count_vect = CountVectorizer(token_pattern = r'\\w{1,}')\n",
        "\n",
        "# Learn a vocabulary dictionary of all tokens in the raw documents\n",
        "count_vect.fit(X_train)\n",
        "\n",
        "# Transform documents to document-term matrix.\n",
        "X_train_count = count_vect.transform(X_train)\n",
        "X_test_count = count_vect.transform(X_test)"
      ]
    },
    {
      "cell_type": "markdown",
      "metadata": {
        "id": "dJs6al0ILtC5"
      },
      "source": [
        "### TF-IDF Vectors as features\n",
        "- Word level\n",
        "- N-Gram level\n",
        "- Character level"
      ]
    },
    {
      "cell_type": "code",
      "execution_count": 6,
      "metadata": {
        "ExecuteTime": {
          "end_time": "2019-06-17T01:40:36.088730Z",
          "start_time": "2019-06-17T01:40:34.519925Z"
        },
        "id": "myjfdfP_LtC6",
        "colab": {
          "base_uri": "https://localhost:8080/"
        },
        "outputId": "a4d11323-2782-44a3-8c98-8d634f763c48"
      },
      "outputs": [
        {
          "output_type": "stream",
          "name": "stdout",
          "text": [
            "TfidfVectorizer(max_features=5000, token_pattern='\\\\w{1,}')\n",
            "CPU times: user 2.09 s, sys: 26.3 ms, total: 2.11 s\n",
            "Wall time: 2.93 s\n"
          ]
        }
      ],
      "source": [
        "%%time\n",
        "# word level tf-idf\n",
        "tfidf_vect = TfidfVectorizer(analyzer = 'word',\n",
        "                             token_pattern = r'\\w{1,}',\n",
        "                             max_features = 5000)\n",
        "print(tfidf_vect)\n",
        "\n",
        "tfidf_vect.fit(X_train)\n",
        "X_train_tfidf = tfidf_vect.transform(X_train)\n",
        "X_test_tfidf  = tfidf_vect.transform(X_test)"
      ]
    },
    {
      "cell_type": "code",
      "execution_count": 7,
      "metadata": {
        "ExecuteTime": {
          "end_time": "2019-06-17T01:40:57.505221Z",
          "start_time": "2019-06-17T01:40:49.387393Z"
        },
        "id": "-h16dUaVLtC_",
        "colab": {
          "base_uri": "https://localhost:8080/"
        },
        "outputId": "63238e6c-45af-4829-dbe3-6a79e2416cb7"
      },
      "outputs": [
        {
          "output_type": "stream",
          "name": "stdout",
          "text": [
            "TfidfVectorizer(max_features=5000, ngram_range=(2, 3), token_pattern='\\\\w{1,}')\n",
            "CPU times: user 6.71 s, sys: 223 ms, total: 6.93 s\n",
            "Wall time: 7.8 s\n"
          ]
        }
      ],
      "source": [
        "%%time\n",
        "# ngram level tf-idf\n",
        "tfidf_vect_ngram = TfidfVectorizer(analyzer = 'word',\n",
        "                                   token_pattern = r'\\w{1,}',\n",
        "                                   ngram_range = (2, 3),\n",
        "                                   max_features = 5000)\n",
        "print(tfidf_vect_ngram)\n",
        "\n",
        "tfidf_vect_ngram.fit(X_train)\n",
        "X_train_tfidf_ngram = tfidf_vect_ngram.transform(X_train)\n",
        "X_test_tfidf_ngram  = tfidf_vect_ngram.transform(X_test)"
      ]
    },
    {
      "cell_type": "code",
      "execution_count": 8,
      "metadata": {
        "ExecuteTime": {
          "end_time": "2019-06-17T01:41:10.209071Z",
          "start_time": "2019-06-17T01:40:59.211484Z"
        },
        "id": "Y7rmIt49LtDC",
        "colab": {
          "base_uri": "https://localhost:8080/"
        },
        "outputId": "e8e4f0dc-d827-48d1-e498-93613e382174"
      },
      "outputs": [
        {
          "output_type": "stream",
          "name": "stdout",
          "text": [
            "TfidfVectorizer(analyzer='char', max_features=5000, ngram_range=(2, 3))\n",
            "CPU times: user 7.64 s, sys: 92.8 ms, total: 7.73 s\n",
            "Wall time: 7.77 s\n"
          ]
        }
      ],
      "source": [
        "%%time\n",
        "# characters level tf-idf\n",
        "tfidf_vect_ngram_chars = TfidfVectorizer(analyzer = 'char',\n",
        "                                         ngram_range = (2, 3),\n",
        "                                         max_features = 5000)\n",
        "print(tfidf_vect_ngram_chars)\n",
        "\n",
        "tfidf_vect_ngram_chars.fit(X_train)\n",
        "X_train_tfidf_ngram_chars = tfidf_vect_ngram_chars.transform(X_train)\n",
        "X_test_tfidf_ngram_chars  = tfidf_vect_ngram_chars.transform(X_test)"
      ]
    },
    {
      "cell_type": "markdown",
      "metadata": {
        "id": "_Pck1cuvLtDH"
      },
      "source": [
        "### Text / NLP based features\n",
        "\n",
        "Create some other features.\n",
        "\n",
        "char_count = Number of Characters in Text\n",
        "\n",
        "word_count = Number of Words in Text\n",
        "\n",
        "word_density = Average Number of Char in Words\n",
        "\n",
        "punctuation_count = Number of Punctuation in Text\n",
        "\n",
        "title_word_count = Number of Words in Title\n",
        "\n",
        "uppercase_word_count = Number of Upperwords in Text\n"
      ]
    },
    {
      "cell_type": "code",
      "execution_count": 9,
      "metadata": {
        "ExecuteTime": {
          "end_time": "2019-06-17T01:43:52.813132Z",
          "start_time": "2019-06-17T01:43:52.806150Z"
        },
        "id": "4jebGm1gLtDH",
        "colab": {
          "base_uri": "https://localhost:8080/"
        },
        "outputId": "b31f84be-2176-408d-f2fe-bd6435e62126"
      },
      "outputs": [
        {
          "output_type": "stream",
          "name": "stdout",
          "text": [
            "CPU times: user 425 ms, sys: 2.11 ms, total: 428 ms\n",
            "Wall time: 428 ms\n"
          ]
        }
      ],
      "source": [
        "%%time\n",
        "# ANSWER\n",
        "df_corpus['char_count'] = df_corpus['text'].apply(len)\n",
        "df_corpus['word_count'] = df_corpus['text'].apply(lambda x: len(x.split()))\n",
        "df_corpus['word_density'] = df_corpus['char_count'] / (df_corpus['word_count'] + 1)\n",
        "df_corpus['punctuation_count'] = df_corpus['text'].apply(lambda x: len(''.join(_ for _ in x if _ in string.punctuation)))\n",
        "df_corpus['title_word_count'] = df_corpus['text'].apply(lambda x: len([w for w in x.split() if w.istitle()]))\n",
        "df_corpus['uppercase_word_count'] = df_corpus['text'].apply(lambda x: len([w for w in x.split() if w.isupper()]))"
      ]
    },
    {
      "cell_type": "code",
      "execution_count": 10,
      "metadata": {
        "ExecuteTime": {
          "end_time": "2019-06-17T01:44:03.442730Z",
          "start_time": "2019-06-17T01:44:02.298791Z"
        },
        "id": "Z-l2iZcLLtDO"
      },
      "outputs": [],
      "source": [
        "## load spaCy\n",
        "nlp = spacy.load('en_core_web_sm')"
      ]
    },
    {
      "cell_type": "markdown",
      "metadata": {
        "id": "p-9d0G59LtDR"
      },
      "source": [
        "Part of Speech in **SpaCy**\n",
        "\n",
        "    POS   DESCRIPTION               EXAMPLES\n",
        "    ----- ------------------------- ---------------------------------------------\n",
        "    ADJ   adjective                 big, old, green, incomprehensible, first\n",
        "    ADP   adposition                in, to, during\n",
        "    ADV   adverb                    very, tomorrow, down, where, there\n",
        "    AUX   auxiliary                 is, has (done), will (do), should (do)\n",
        "    CONJ  conjunction               and, or, but\n",
        "    CCONJ coordinating conjunction  and, or, but\n",
        "    DET   determiner                a, an, the\n",
        "    INTJ  interjection              psst, ouch, bravo, hello\n",
        "    NOUN  noun                      girl, cat, tree, air, beauty\n",
        "    NUM   numeral                   1, 2017, one, seventy-seven, IV, MMXIV\n",
        "    PART  particle                  's, not,\n",
        "    PRON  pronoun                   I, you, he, she, myself, themselves, somebody\n",
        "    PROPN proper noun               Mary, John, London, NATO, HBO\n",
        "    PUNCT punctuation               ., (, ), ?\n",
        "    SCONJ subordinating conjunction if, while, that\n",
        "    SYM   symbol                    $, %, §, ©, +, −, ×, ÷, =, :), 😝\n",
        "    VERB  verb                      run, runs, running, eat, ate, eating\n",
        "    X     other                     sfpksdpsxmsa\n",
        "    SPACE space\n",
        "    \n",
        "Find out the number of Adjectives, Adverbs, Nouns, Numerals, Pronouns, Proper Nouns, Verbs.\n",
        "\n",
        "    Hint:\n",
        "    1. Convert text to spacy document\n",
        "    2. Use pos_\n",
        "    3. Use Counter"
      ]
    },
    {
      "cell_type": "code",
      "execution_count": 11,
      "metadata": {
        "ExecuteTime": {
          "end_time": "2019-06-17T01:50:15.900377Z",
          "start_time": "2019-06-17T01:50:15.889406Z"
        },
        "id": "NcxmvIOGLtDS"
      },
      "outputs": [],
      "source": [
        "# Initialise some columns for feature's counts\n",
        "df_corpus['adj_count'] = 0\n",
        "df_corpus['adv_count'] = 0\n",
        "df_corpus['noun_count'] = 0\n",
        "df_corpus['num_count'] = 0\n",
        "df_corpus['pron_count'] = 0\n",
        "df_corpus['propn_count'] = 0\n",
        "df_corpus['verb_count'] = 0"
      ]
    },
    {
      "cell_type": "code",
      "execution_count": 12,
      "metadata": {
        "ExecuteTime": {
          "end_time": "2019-06-17T01:52:39.611809Z",
          "start_time": "2019-06-17T01:52:39.608818Z"
        },
        "id": "1KfFtu1HcPwA",
        "colab": {
          "base_uri": "https://localhost:8080/"
        },
        "outputId": "56b59d0e-86c6-456a-8c50-a7b84eb1a45f"
      },
      "outputs": [
        {
          "output_type": "stream",
          "name": "stdout",
          "text": [
            "CPU times: user 4min 1s, sys: 531 ms, total: 4min 2s\n",
            "Wall time: 4min 4s\n"
          ]
        }
      ],
      "source": [
        "%%time\n",
        "# ANSWER\n",
        "# for each text\n",
        "for i in range(df_corpus.shape[0]):\n",
        "  # convert into a spaCy document\n",
        "  doc = nlp(df_corpus.iloc[i]['text'])\n",
        "  # initialise feature counter\n",
        "  c = Counter(t.pos_ for t in doc)\n",
        "\n",
        "  df_corpus.at[i, 'adj_count'] = c['ADJ']\n",
        "  df_corpus.at[i, 'adv_count'] = c['ADV']\n",
        "  df_corpus.at[i, 'noun_count'] = c['NOUN']\n",
        "  df_corpus.at[i, 'num_count'] = c['NUM']\n",
        "  df_corpus.at[i, 'pron_count'] = c['PRON']\n",
        "  df_corpus.at[i, 'propn_count'] = c['PROPN']\n",
        "  df_corpus.at[i, 'verb_count'] = c['VERB']"
      ]
    },
    {
      "cell_type": "code",
      "execution_count": 13,
      "metadata": {
        "ExecuteTime": {
          "end_time": "2019-06-17T01:59:42.424828Z",
          "start_time": "2019-06-17T01:59:42.390920Z"
        },
        "id": "DW1_LKP2LtDX",
        "colab": {
          "base_uri": "https://localhost:8080/",
          "height": 226
        },
        "outputId": "58d687f7-e7ac-40ce-d763-1e35647a9a7a"
      },
      "outputs": [
        {
          "output_type": "execute_result",
          "data": {
            "text/plain": [
              "      char_count  word_count  word_density  punctuation_count  \\\n",
              "2295         439          78      5.556962                 13   \n",
              "4735         339          59      5.650000                  9   \n",
              "6116         452          84      5.317647                  8   \n",
              "1516         258          48      5.265306                  7   \n",
              "7426         159          30      5.129032                  9   \n",
              "\n",
              "      title_word_count  uppercase_word_count  adj_count  adv_count  \\\n",
              "2295                 8                     0          8          9   \n",
              "4735                 4                     3          8          4   \n",
              "6116                10                     7          5          6   \n",
              "1516                 8                     0          7          4   \n",
              "7426                 4                     0          5          2   \n",
              "\n",
              "      noun_count  num_count  pron_count  propn_count  verb_count  \n",
              "2295          12          3          11            3          13  \n",
              "4735          14          1           7            1           7  \n",
              "6116          13          0          16            1          17  \n",
              "1516           6          0           6            3           8  \n",
              "7426           5          3           0            3           2  "
            ],
            "text/html": [
              "\n",
              "  <div id=\"df-5c93232b-1831-40dd-a542-d27e80f97915\" class=\"colab-df-container\">\n",
              "    <div>\n",
              "<style scoped>\n",
              "    .dataframe tbody tr th:only-of-type {\n",
              "        vertical-align: middle;\n",
              "    }\n",
              "\n",
              "    .dataframe tbody tr th {\n",
              "        vertical-align: top;\n",
              "    }\n",
              "\n",
              "    .dataframe thead th {\n",
              "        text-align: right;\n",
              "    }\n",
              "</style>\n",
              "<table border=\"1\" class=\"dataframe\">\n",
              "  <thead>\n",
              "    <tr style=\"text-align: right;\">\n",
              "      <th></th>\n",
              "      <th>char_count</th>\n",
              "      <th>word_count</th>\n",
              "      <th>word_density</th>\n",
              "      <th>punctuation_count</th>\n",
              "      <th>title_word_count</th>\n",
              "      <th>uppercase_word_count</th>\n",
              "      <th>adj_count</th>\n",
              "      <th>adv_count</th>\n",
              "      <th>noun_count</th>\n",
              "      <th>num_count</th>\n",
              "      <th>pron_count</th>\n",
              "      <th>propn_count</th>\n",
              "      <th>verb_count</th>\n",
              "    </tr>\n",
              "  </thead>\n",
              "  <tbody>\n",
              "    <tr>\n",
              "      <th>2295</th>\n",
              "      <td>439</td>\n",
              "      <td>78</td>\n",
              "      <td>5.556962</td>\n",
              "      <td>13</td>\n",
              "      <td>8</td>\n",
              "      <td>0</td>\n",
              "      <td>8</td>\n",
              "      <td>9</td>\n",
              "      <td>12</td>\n",
              "      <td>3</td>\n",
              "      <td>11</td>\n",
              "      <td>3</td>\n",
              "      <td>13</td>\n",
              "    </tr>\n",
              "    <tr>\n",
              "      <th>4735</th>\n",
              "      <td>339</td>\n",
              "      <td>59</td>\n",
              "      <td>5.650000</td>\n",
              "      <td>9</td>\n",
              "      <td>4</td>\n",
              "      <td>3</td>\n",
              "      <td>8</td>\n",
              "      <td>4</td>\n",
              "      <td>14</td>\n",
              "      <td>1</td>\n",
              "      <td>7</td>\n",
              "      <td>1</td>\n",
              "      <td>7</td>\n",
              "    </tr>\n",
              "    <tr>\n",
              "      <th>6116</th>\n",
              "      <td>452</td>\n",
              "      <td>84</td>\n",
              "      <td>5.317647</td>\n",
              "      <td>8</td>\n",
              "      <td>10</td>\n",
              "      <td>7</td>\n",
              "      <td>5</td>\n",
              "      <td>6</td>\n",
              "      <td>13</td>\n",
              "      <td>0</td>\n",
              "      <td>16</td>\n",
              "      <td>1</td>\n",
              "      <td>17</td>\n",
              "    </tr>\n",
              "    <tr>\n",
              "      <th>1516</th>\n",
              "      <td>258</td>\n",
              "      <td>48</td>\n",
              "      <td>5.265306</td>\n",
              "      <td>7</td>\n",
              "      <td>8</td>\n",
              "      <td>0</td>\n",
              "      <td>7</td>\n",
              "      <td>4</td>\n",
              "      <td>6</td>\n",
              "      <td>0</td>\n",
              "      <td>6</td>\n",
              "      <td>3</td>\n",
              "      <td>8</td>\n",
              "    </tr>\n",
              "    <tr>\n",
              "      <th>7426</th>\n",
              "      <td>159</td>\n",
              "      <td>30</td>\n",
              "      <td>5.129032</td>\n",
              "      <td>9</td>\n",
              "      <td>4</td>\n",
              "      <td>0</td>\n",
              "      <td>5</td>\n",
              "      <td>2</td>\n",
              "      <td>5</td>\n",
              "      <td>3</td>\n",
              "      <td>0</td>\n",
              "      <td>3</td>\n",
              "      <td>2</td>\n",
              "    </tr>\n",
              "  </tbody>\n",
              "</table>\n",
              "</div>\n",
              "    <div class=\"colab-df-buttons\">\n",
              "\n",
              "  <div class=\"colab-df-container\">\n",
              "    <button class=\"colab-df-convert\" onclick=\"convertToInteractive('df-5c93232b-1831-40dd-a542-d27e80f97915')\"\n",
              "            title=\"Convert this dataframe to an interactive table.\"\n",
              "            style=\"display:none;\">\n",
              "\n",
              "  <svg xmlns=\"http://www.w3.org/2000/svg\" height=\"24px\" viewBox=\"0 -960 960 960\">\n",
              "    <path d=\"M120-120v-720h720v720H120Zm60-500h600v-160H180v160Zm220 220h160v-160H400v160Zm0 220h160v-160H400v160ZM180-400h160v-160H180v160Zm440 0h160v-160H620v160ZM180-180h160v-160H180v160Zm440 0h160v-160H620v160Z\"/>\n",
              "  </svg>\n",
              "    </button>\n",
              "\n",
              "  <style>\n",
              "    .colab-df-container {\n",
              "      display:flex;\n",
              "      gap: 12px;\n",
              "    }\n",
              "\n",
              "    .colab-df-convert {\n",
              "      background-color: #E8F0FE;\n",
              "      border: none;\n",
              "      border-radius: 50%;\n",
              "      cursor: pointer;\n",
              "      display: none;\n",
              "      fill: #1967D2;\n",
              "      height: 32px;\n",
              "      padding: 0 0 0 0;\n",
              "      width: 32px;\n",
              "    }\n",
              "\n",
              "    .colab-df-convert:hover {\n",
              "      background-color: #E2EBFA;\n",
              "      box-shadow: 0px 1px 2px rgba(60, 64, 67, 0.3), 0px 1px 3px 1px rgba(60, 64, 67, 0.15);\n",
              "      fill: #174EA6;\n",
              "    }\n",
              "\n",
              "    .colab-df-buttons div {\n",
              "      margin-bottom: 4px;\n",
              "    }\n",
              "\n",
              "    [theme=dark] .colab-df-convert {\n",
              "      background-color: #3B4455;\n",
              "      fill: #D2E3FC;\n",
              "    }\n",
              "\n",
              "    [theme=dark] .colab-df-convert:hover {\n",
              "      background-color: #434B5C;\n",
              "      box-shadow: 0px 1px 3px 1px rgba(0, 0, 0, 0.15);\n",
              "      filter: drop-shadow(0px 1px 2px rgba(0, 0, 0, 0.3));\n",
              "      fill: #FFFFFF;\n",
              "    }\n",
              "  </style>\n",
              "\n",
              "    <script>\n",
              "      const buttonEl =\n",
              "        document.querySelector('#df-5c93232b-1831-40dd-a542-d27e80f97915 button.colab-df-convert');\n",
              "      buttonEl.style.display =\n",
              "        google.colab.kernel.accessAllowed ? 'block' : 'none';\n",
              "\n",
              "      async function convertToInteractive(key) {\n",
              "        const element = document.querySelector('#df-5c93232b-1831-40dd-a542-d27e80f97915');\n",
              "        const dataTable =\n",
              "          await google.colab.kernel.invokeFunction('convertToInteractive',\n",
              "                                                    [key], {});\n",
              "        if (!dataTable) return;\n",
              "\n",
              "        const docLinkHtml = 'Like what you see? Visit the ' +\n",
              "          '<a target=\"_blank\" href=https://colab.research.google.com/notebooks/data_table.ipynb>data table notebook</a>'\n",
              "          + ' to learn more about interactive tables.';\n",
              "        element.innerHTML = '';\n",
              "        dataTable['output_type'] = 'display_data';\n",
              "        await google.colab.output.renderOutput(dataTable, element);\n",
              "        const docLink = document.createElement('div');\n",
              "        docLink.innerHTML = docLinkHtml;\n",
              "        element.appendChild(docLink);\n",
              "      }\n",
              "    </script>\n",
              "  </div>\n",
              "\n",
              "\n",
              "    <div id=\"df-fd85ca9e-80f1-4225-be60-f91d1a735dcd\">\n",
              "      <button class=\"colab-df-quickchart\" onclick=\"quickchart('df-fd85ca9e-80f1-4225-be60-f91d1a735dcd')\"\n",
              "                title=\"Suggest charts\"\n",
              "                style=\"display:none;\">\n",
              "\n",
              "<svg xmlns=\"http://www.w3.org/2000/svg\" height=\"24px\"viewBox=\"0 0 24 24\"\n",
              "     width=\"24px\">\n",
              "    <g>\n",
              "        <path d=\"M19 3H5c-1.1 0-2 .9-2 2v14c0 1.1.9 2 2 2h14c1.1 0 2-.9 2-2V5c0-1.1-.9-2-2-2zM9 17H7v-7h2v7zm4 0h-2V7h2v10zm4 0h-2v-4h2v4z\"/>\n",
              "    </g>\n",
              "</svg>\n",
              "      </button>\n",
              "\n",
              "<style>\n",
              "  .colab-df-quickchart {\n",
              "      --bg-color: #E8F0FE;\n",
              "      --fill-color: #1967D2;\n",
              "      --hover-bg-color: #E2EBFA;\n",
              "      --hover-fill-color: #174EA6;\n",
              "      --disabled-fill-color: #AAA;\n",
              "      --disabled-bg-color: #DDD;\n",
              "  }\n",
              "\n",
              "  [theme=dark] .colab-df-quickchart {\n",
              "      --bg-color: #3B4455;\n",
              "      --fill-color: #D2E3FC;\n",
              "      --hover-bg-color: #434B5C;\n",
              "      --hover-fill-color: #FFFFFF;\n",
              "      --disabled-bg-color: #3B4455;\n",
              "      --disabled-fill-color: #666;\n",
              "  }\n",
              "\n",
              "  .colab-df-quickchart {\n",
              "    background-color: var(--bg-color);\n",
              "    border: none;\n",
              "    border-radius: 50%;\n",
              "    cursor: pointer;\n",
              "    display: none;\n",
              "    fill: var(--fill-color);\n",
              "    height: 32px;\n",
              "    padding: 0;\n",
              "    width: 32px;\n",
              "  }\n",
              "\n",
              "  .colab-df-quickchart:hover {\n",
              "    background-color: var(--hover-bg-color);\n",
              "    box-shadow: 0 1px 2px rgba(60, 64, 67, 0.3), 0 1px 3px 1px rgba(60, 64, 67, 0.15);\n",
              "    fill: var(--button-hover-fill-color);\n",
              "  }\n",
              "\n",
              "  .colab-df-quickchart-complete:disabled,\n",
              "  .colab-df-quickchart-complete:disabled:hover {\n",
              "    background-color: var(--disabled-bg-color);\n",
              "    fill: var(--disabled-fill-color);\n",
              "    box-shadow: none;\n",
              "  }\n",
              "\n",
              "  .colab-df-spinner {\n",
              "    border: 2px solid var(--fill-color);\n",
              "    border-color: transparent;\n",
              "    border-bottom-color: var(--fill-color);\n",
              "    animation:\n",
              "      spin 1s steps(1) infinite;\n",
              "  }\n",
              "\n",
              "  @keyframes spin {\n",
              "    0% {\n",
              "      border-color: transparent;\n",
              "      border-bottom-color: var(--fill-color);\n",
              "      border-left-color: var(--fill-color);\n",
              "    }\n",
              "    20% {\n",
              "      border-color: transparent;\n",
              "      border-left-color: var(--fill-color);\n",
              "      border-top-color: var(--fill-color);\n",
              "    }\n",
              "    30% {\n",
              "      border-color: transparent;\n",
              "      border-left-color: var(--fill-color);\n",
              "      border-top-color: var(--fill-color);\n",
              "      border-right-color: var(--fill-color);\n",
              "    }\n",
              "    40% {\n",
              "      border-color: transparent;\n",
              "      border-right-color: var(--fill-color);\n",
              "      border-top-color: var(--fill-color);\n",
              "    }\n",
              "    60% {\n",
              "      border-color: transparent;\n",
              "      border-right-color: var(--fill-color);\n",
              "    }\n",
              "    80% {\n",
              "      border-color: transparent;\n",
              "      border-right-color: var(--fill-color);\n",
              "      border-bottom-color: var(--fill-color);\n",
              "    }\n",
              "    90% {\n",
              "      border-color: transparent;\n",
              "      border-bottom-color: var(--fill-color);\n",
              "    }\n",
              "  }\n",
              "</style>\n",
              "\n",
              "      <script>\n",
              "        async function quickchart(key) {\n",
              "          const quickchartButtonEl =\n",
              "            document.querySelector('#' + key + ' button');\n",
              "          quickchartButtonEl.disabled = true;  // To prevent multiple clicks.\n",
              "          quickchartButtonEl.classList.add('colab-df-spinner');\n",
              "          try {\n",
              "            const charts = await google.colab.kernel.invokeFunction(\n",
              "                'suggestCharts', [key], {});\n",
              "          } catch (error) {\n",
              "            console.error('Error during call to suggestCharts:', error);\n",
              "          }\n",
              "          quickchartButtonEl.classList.remove('colab-df-spinner');\n",
              "          quickchartButtonEl.classList.add('colab-df-quickchart-complete');\n",
              "        }\n",
              "        (() => {\n",
              "          let quickchartButtonEl =\n",
              "            document.querySelector('#df-fd85ca9e-80f1-4225-be60-f91d1a735dcd button');\n",
              "          quickchartButtonEl.style.display =\n",
              "            google.colab.kernel.accessAllowed ? 'block' : 'none';\n",
              "        })();\n",
              "      </script>\n",
              "    </div>\n",
              "\n",
              "    </div>\n",
              "  </div>\n"
            ],
            "application/vnd.google.colaboratory.intrinsic+json": {
              "type": "dataframe",
              "summary": "{\n  \"name\": \"df_corpus[cols]\",\n  \"rows\": 5,\n  \"fields\": [\n    {\n      \"column\": \"char_count\",\n      \"properties\": {\n        \"dtype\": \"number\",\n        \"std\": 123,\n        \"min\": 159,\n        \"max\": 452,\n        \"num_unique_values\": 5,\n        \"samples\": [\n          339,\n          159,\n          452\n        ],\n        \"semantic_type\": \"\",\n        \"description\": \"\"\n      }\n    },\n    {\n      \"column\": \"word_count\",\n      \"properties\": {\n        \"dtype\": \"number\",\n        \"std\": 22,\n        \"min\": 30,\n        \"max\": 84,\n        \"num_unique_values\": 5,\n        \"samples\": [\n          59,\n          30,\n          84\n        ],\n        \"semantic_type\": \"\",\n        \"description\": \"\"\n      }\n    },\n    {\n      \"column\": \"word_density\",\n      \"properties\": {\n        \"dtype\": \"number\",\n        \"std\": 0.21457582542890508,\n        \"min\": 5.129032258064516,\n        \"max\": 5.65,\n        \"num_unique_values\": 5,\n        \"samples\": [\n          5.65,\n          5.129032258064516,\n          5.317647058823529\n        ],\n        \"semantic_type\": \"\",\n        \"description\": \"\"\n      }\n    },\n    {\n      \"column\": \"punctuation_count\",\n      \"properties\": {\n        \"dtype\": \"number\",\n        \"std\": 2,\n        \"min\": 7,\n        \"max\": 13,\n        \"num_unique_values\": 4,\n        \"samples\": [\n          9,\n          7,\n          13\n        ],\n        \"semantic_type\": \"\",\n        \"description\": \"\"\n      }\n    },\n    {\n      \"column\": \"title_word_count\",\n      \"properties\": {\n        \"dtype\": \"number\",\n        \"std\": 2,\n        \"min\": 4,\n        \"max\": 10,\n        \"num_unique_values\": 3,\n        \"samples\": [\n          8,\n          4,\n          10\n        ],\n        \"semantic_type\": \"\",\n        \"description\": \"\"\n      }\n    },\n    {\n      \"column\": \"uppercase_word_count\",\n      \"properties\": {\n        \"dtype\": \"number\",\n        \"std\": 3,\n        \"min\": 0,\n        \"max\": 7,\n        \"num_unique_values\": 3,\n        \"samples\": [\n          0,\n          3,\n          7\n        ],\n        \"semantic_type\": \"\",\n        \"description\": \"\"\n      }\n    },\n    {\n      \"column\": \"adj_count\",\n      \"properties\": {\n        \"dtype\": \"number\",\n        \"std\": 1,\n        \"min\": 5,\n        \"max\": 8,\n        \"num_unique_values\": 3,\n        \"samples\": [\n          8,\n          5,\n          7\n        ],\n        \"semantic_type\": \"\",\n        \"description\": \"\"\n      }\n    },\n    {\n      \"column\": \"adv_count\",\n      \"properties\": {\n        \"dtype\": \"number\",\n        \"std\": 2,\n        \"min\": 2,\n        \"max\": 9,\n        \"num_unique_values\": 4,\n        \"samples\": [\n          4,\n          2,\n          9\n        ],\n        \"semantic_type\": \"\",\n        \"description\": \"\"\n      }\n    },\n    {\n      \"column\": \"noun_count\",\n      \"properties\": {\n        \"dtype\": \"number\",\n        \"std\": 4,\n        \"min\": 5,\n        \"max\": 14,\n        \"num_unique_values\": 5,\n        \"samples\": [\n          14,\n          5,\n          13\n        ],\n        \"semantic_type\": \"\",\n        \"description\": \"\"\n      }\n    },\n    {\n      \"column\": \"num_count\",\n      \"properties\": {\n        \"dtype\": \"number\",\n        \"std\": 1,\n        \"min\": 0,\n        \"max\": 3,\n        \"num_unique_values\": 3,\n        \"samples\": [\n          3,\n          1,\n          0\n        ],\n        \"semantic_type\": \"\",\n        \"description\": \"\"\n      }\n    },\n    {\n      \"column\": \"pron_count\",\n      \"properties\": {\n        \"dtype\": \"number\",\n        \"std\": 5,\n        \"min\": 0,\n        \"max\": 16,\n        \"num_unique_values\": 5,\n        \"samples\": [\n          7,\n          0,\n          16\n        ],\n        \"semantic_type\": \"\",\n        \"description\": \"\"\n      }\n    },\n    {\n      \"column\": \"propn_count\",\n      \"properties\": {\n        \"dtype\": \"number\",\n        \"std\": 1,\n        \"min\": 1,\n        \"max\": 3,\n        \"num_unique_values\": 2,\n        \"samples\": [\n          1,\n          3\n        ],\n        \"semantic_type\": \"\",\n        \"description\": \"\"\n      }\n    },\n    {\n      \"column\": \"verb_count\",\n      \"properties\": {\n        \"dtype\": \"number\",\n        \"std\": 5,\n        \"min\": 2,\n        \"max\": 17,\n        \"num_unique_values\": 5,\n        \"samples\": [\n          7,\n          2\n        ],\n        \"semantic_type\": \"\",\n        \"description\": \"\"\n      }\n    }\n  ]\n}"
            }
          },
          "metadata": {},
          "execution_count": 13
        }
      ],
      "source": [
        "cols = [\n",
        "    'char_count', 'word_count', 'word_density',\n",
        "    'punctuation_count', 'title_word_count',\n",
        "    'uppercase_word_count', 'adj_count',\n",
        "    'adv_count', 'noun_count', 'num_count',\n",
        "    'pron_count', 'propn_count', 'verb_count']\n",
        "\n",
        "df_corpus[cols].sample(5)"
      ]
    },
    {
      "cell_type": "markdown",
      "metadata": {
        "id": "mQCAUFWYLtDb"
      },
      "source": [
        "### Topic Models as features"
      ]
    },
    {
      "cell_type": "code",
      "execution_count": 14,
      "metadata": {
        "ExecuteTime": {
          "end_time": "2019-06-17T02:27:09.442903Z",
          "start_time": "2019-06-17T02:24:45.531924Z"
        },
        "id": "wg2mAlkRLtDb",
        "colab": {
          "base_uri": "https://localhost:8080/"
        },
        "outputId": "f0cc77eb-f1cb-4090-8bfa-426d98ab5937"
      },
      "outputs": [
        {
          "output_type": "stream",
          "name": "stdout",
          "text": [
            "CPU times: user 59.6 s, sys: 160 ms, total: 59.7 s\n",
            "Wall time: 1min\n"
          ]
        }
      ],
      "source": [
        "%%time\n",
        "# train a LDA Model\n",
        "lda_model = LatentDirichletAllocation(n_components = 20, learning_method = 'online', max_iter = 20)\n",
        "\n",
        "X_topics = lda_model.fit_transform(X_train_count)\n",
        "topic_word = lda_model.components_\n",
        "vocab = count_vect.get_feature_names_out()"
      ]
    },
    {
      "cell_type": "code",
      "execution_count": 15,
      "metadata": {
        "ExecuteTime": {
          "end_time": "2019-06-17T02:28:11.804475Z",
          "start_time": "2019-06-17T02:28:10.978502Z"
        },
        "id": "_8dIDyHjLtDf",
        "colab": {
          "base_uri": "https://localhost:8080/"
        },
        "outputId": "799a8447-f6cb-4ef6-b13e-19a669591551"
      },
      "outputs": [
        {
          "output_type": "stream",
          "name": "stdout",
          "text": [
            "Group Top Words\n",
            "----- --------------------------------------------------------------------------------\n",
            "    0 scooter goodie breathe steer dancers albert serum hollies poets controller\n",
            "    1 camera works use software with price unit canon player my\n",
            "    2 apple skin japanese soundtrack g4 eye lola opening powerbook exam\n",
            "    3 cd music album game are songs they song great on\n",
            "    4 his he book manson hollywood page diane lane theory bible\n",
            "    5 sings titan astrology anthology boiling shades marie yea curie eyed\n",
            "    6 y en que los del un mas lo una si\n",
            "    7 movie movies watch acting special effects bad seen actors haunting\n",
            "    8 l violence et philadelphia les il hide dedicated pour est\n",
            "    9 u show season 1 stargate episode winston episodes 2 higgins\n",
            "   10 greatest memory economics required romantic scanner error yoga touching bass\n",
            "   11 buddy paris remix maker achieve ry faces mario compartment bernie\n",
            "   12 pros sea piper rome latin touches celiac sensor knox perabo\n",
            "   13 local mad rock vocals burn costs musiq music hip diary\n",
            "   14 edition single ear fit jawbone avoid versions noise illustrations headset\n",
            "   15 printer hp print wanting humanity spanish ink marriage harry bound\n",
            "   16 richard freud lifestyle asvab dummies circuit fw 2006 ps inappropriate\n",
            "   17 keeps bottle receive magazine stands manufacturer jimmy news blow warmer\n",
            "   18 the i and a to it of this is in\n",
            "   19 missed unbelievable henry julia oscar pity link protect developing treasure\n"
          ]
        }
      ],
      "source": [
        "# view the topic models\n",
        "n_top_words = 10\n",
        "topic_summaries = []\n",
        "print('Group Top Words')\n",
        "print('-----', '-'*80)\n",
        "for i, topic_dist in enumerate(topic_word):\n",
        "    topic_words = np.array(vocab)[np.argsort(topic_dist)][:-(n_top_words+1):-1]\n",
        "    top_words = ' '.join(topic_words)\n",
        "    topic_summaries.append(top_words)\n",
        "    print('  %3d %s' % (i, top_words))"
      ]
    },
    {
      "cell_type": "markdown",
      "metadata": {
        "id": "TtfnK1jeLtDl"
      },
      "source": [
        "## Modelling"
      ]
    },
    {
      "cell_type": "markdown",
      "metadata": {
        "id": "uwwoZ6Qp3psC"
      },
      "source": [
        "Run the following cells to train a number of models on the count vector and TF-IDF vector feature sets generated above."
      ]
    },
    {
      "cell_type": "code",
      "execution_count": 16,
      "metadata": {
        "ExecuteTime": {
          "end_time": "2019-06-17T02:34:12.273365Z",
          "start_time": "2019-06-17T02:34:12.263393Z"
        },
        "id": "uwVaWSyTLtDm"
      },
      "outputs": [],
      "source": [
        "## helper function\n",
        "\n",
        "def train_model(classifier, feature_vector_train, label, feature_vector_valid):\n",
        "    # fit the training dataset on the classifier\n",
        "    classifier.fit(feature_vector_train, label)\n",
        "\n",
        "    # predict the labels on validation dataset\n",
        "    predictions = classifier.predict(feature_vector_valid)\n",
        "\n",
        "    return accuracy_score(predictions, y_test)"
      ]
    },
    {
      "cell_type": "code",
      "execution_count": 17,
      "metadata": {
        "ExecuteTime": {
          "end_time": "2019-06-17T02:34:14.900001Z",
          "start_time": "2019-06-17T02:34:14.894016Z"
        },
        "id": "f_onpqUkLtDo"
      },
      "outputs": [],
      "source": [
        "# Keep the results in a dataframe\n",
        "results = pd.DataFrame(columns = ['Count Vectors',\n",
        "                                  'WordLevel TF-IDF',\n",
        "                                  'N-Gram Vectors',\n",
        "                                  'CharLevel Vectors'])"
      ]
    },
    {
      "cell_type": "markdown",
      "metadata": {
        "id": "OXwLriDpLtDq"
      },
      "source": [
        "### Naive Bayes Classifier"
      ]
    },
    {
      "cell_type": "code",
      "execution_count": 18,
      "metadata": {
        "ExecuteTime": {
          "end_time": "2019-06-17T02:34:34.147043Z",
          "start_time": "2019-06-17T02:34:34.123096Z"
        },
        "id": "ZcU6IKyNLtDs",
        "colab": {
          "base_uri": "https://localhost:8080/"
        },
        "outputId": "f9782135-f3a9-45d6-d59e-a75a6f48d687"
      },
      "outputs": [
        {
          "output_type": "stream",
          "name": "stdout",
          "text": [
            "NB, Count Vectors    : 0.8520\n",
            "\n",
            "CPU times: user 10.8 ms, sys: 989 µs, total: 11.8 ms\n",
            "Wall time: 12.8 ms\n"
          ]
        }
      ],
      "source": [
        "%%time\n",
        "# Naive Bayes on Count Vectors\n",
        "accuracy1 = train_model(MultinomialNB(), X_train_count, y_train, X_test_count)\n",
        "print('NB, Count Vectors    : %.4f\\n' % accuracy1)"
      ]
    },
    {
      "cell_type": "code",
      "execution_count": 19,
      "metadata": {
        "ExecuteTime": {
          "end_time": "2019-06-17T02:34:36.399812Z",
          "start_time": "2019-06-17T02:34:36.381861Z"
        },
        "id": "zqEG_ByTLtDv",
        "colab": {
          "base_uri": "https://localhost:8080/"
        },
        "outputId": "4480788c-2cf3-41d4-e001-2a02958b5659"
      },
      "outputs": [
        {
          "output_type": "stream",
          "name": "stdout",
          "text": [
            "NB, WordLevel TF-IDF : 0.8560\n",
            "\n",
            "CPU times: user 10.2 ms, sys: 992 µs, total: 11.2 ms\n",
            "Wall time: 10.5 ms\n"
          ]
        }
      ],
      "source": [
        "%%time\n",
        "# Naive Bayes on Word Level TF IDF Vectors\n",
        "accuracy2 = train_model(MultinomialNB(), X_train_tfidf, y_train, X_test_tfidf)\n",
        "print('NB, WordLevel TF-IDF : %.4f\\n' % accuracy2)"
      ]
    },
    {
      "cell_type": "code",
      "execution_count": 20,
      "metadata": {
        "ExecuteTime": {
          "end_time": "2019-06-17T02:34:39.076000Z",
          "start_time": "2019-06-17T02:34:39.059047Z"
        },
        "id": "uKEEPNi8LtDy",
        "colab": {
          "base_uri": "https://localhost:8080/"
        },
        "outputId": "6bfd76a2-5750-4039-cbac-2af9c52f1287"
      },
      "outputs": [
        {
          "output_type": "stream",
          "name": "stdout",
          "text": [
            "NB, N-Gram Vectors   : 0.8375\n",
            "\n",
            "CPU times: user 7.7 ms, sys: 0 ns, total: 7.7 ms\n",
            "Wall time: 7.71 ms\n"
          ]
        }
      ],
      "source": [
        "%%time\n",
        "# Naive Bayes on Ngram Level TF IDF Vectors\n",
        "accuracy3 = train_model(MultinomialNB(), X_train_tfidf_ngram, y_train, X_test_tfidf_ngram)\n",
        "print('NB, N-Gram Vectors   : %.4f\\n' % accuracy3)"
      ]
    },
    {
      "cell_type": "code",
      "execution_count": 21,
      "metadata": {
        "ExecuteTime": {
          "end_time": "2019-06-17T02:34:42.057019Z",
          "start_time": "2019-06-17T02:34:42.009151Z"
        },
        "id": "M9aIibkBLtD0",
        "colab": {
          "base_uri": "https://localhost:8080/"
        },
        "outputId": "d6d43273-3136-4320-a443-9a54b399433c"
      },
      "outputs": [
        {
          "output_type": "stream",
          "name": "stdout",
          "text": [
            "NB, CharLevel Vectors: 0.8195\n",
            "\n",
            "CPU times: user 36.6 ms, sys: 0 ns, total: 36.6 ms\n",
            "Wall time: 36.3 ms\n"
          ]
        }
      ],
      "source": [
        "%%time\n",
        "# # Naive Bayes on Character Level TF IDF Vectors\n",
        "accuracy4 = train_model(MultinomialNB(), X_train_tfidf_ngram_chars, y_train, X_test_tfidf_ngram_chars)\n",
        "print('NB, CharLevel Vectors: %.4f\\n' % accuracy4)"
      ]
    },
    {
      "cell_type": "code",
      "execution_count": 22,
      "metadata": {
        "ExecuteTime": {
          "end_time": "2019-06-17T02:34:46.265712Z",
          "start_time": "2019-06-17T02:34:46.258734Z"
        },
        "id": "kkrodUzCLtD3"
      },
      "outputs": [],
      "source": [
        "results.loc['Naïve Bayes'] = {\n",
        "    'Count Vectors': accuracy1,\n",
        "    'WordLevel TF-IDF': accuracy2,\n",
        "    'N-Gram Vectors': accuracy3,\n",
        "    'CharLevel Vectors': accuracy4}"
      ]
    },
    {
      "cell_type": "markdown",
      "metadata": {
        "id": "-2oNfajULtD4"
      },
      "source": [
        "### Linear Classifier"
      ]
    },
    {
      "cell_type": "code",
      "execution_count": 23,
      "metadata": {
        "ExecuteTime": {
          "end_time": "2019-06-17T02:34:50.841687Z",
          "start_time": "2019-06-17T02:34:48.637032Z"
        },
        "id": "OFBhhPZ6LtD4",
        "colab": {
          "base_uri": "https://localhost:8080/"
        },
        "outputId": "a6c7b438-37ce-48b0-b33c-214a81c3c329"
      },
      "outputs": [
        {
          "output_type": "stream",
          "name": "stdout",
          "text": [
            "LR, Count Vectors    : 0.8515\n",
            "\n",
            "CPU times: user 9.99 s, sys: 13.9 ms, total: 10 s\n",
            "Wall time: 5.21 s\n"
          ]
        }
      ],
      "source": [
        "%%time\n",
        "# Linear Classifier on Count Vectors\n",
        "accuracy1 = train_model(LogisticRegression(solver = 'lbfgs', max_iter = 350), X_train_count, y_train, X_test_count)\n",
        "print('LR, Count Vectors    : %.4f\\n' % accuracy1)"
      ]
    },
    {
      "cell_type": "code",
      "execution_count": 24,
      "metadata": {
        "ExecuteTime": {
          "end_time": "2019-06-17T02:34:51.310433Z",
          "start_time": "2019-06-17T02:34:51.214690Z"
        },
        "id": "C89hRhDiLtD6",
        "colab": {
          "base_uri": "https://localhost:8080/"
        },
        "outputId": "c8132d61-b3f6-4999-8ed2-666f97caf71a"
      },
      "outputs": [
        {
          "output_type": "stream",
          "name": "stdout",
          "text": [
            "LR, WordLevel TF-IDF : 0.8710\n",
            "\n",
            "CPU times: user 181 ms, sys: 996 µs, total: 182 ms\n",
            "Wall time: 109 ms\n"
          ]
        }
      ],
      "source": [
        "%%time\n",
        "# Linear Classifier on Word Level TF IDF Vectors\n",
        "accuracy2 = train_model(LogisticRegression(solver = 'lbfgs', max_iter = 100), X_train_tfidf, y_train, X_test_tfidf)\n",
        "print('LR, WordLevel TF-IDF : %.4f\\n' % accuracy2)"
      ]
    },
    {
      "cell_type": "code",
      "execution_count": 25,
      "metadata": {
        "ExecuteTime": {
          "end_time": "2019-06-17T02:34:51.749258Z",
          "start_time": "2019-06-17T02:34:51.683435Z"
        },
        "id": "MvhV1jC6LtD9",
        "colab": {
          "base_uri": "https://localhost:8080/"
        },
        "outputId": "5550bc2e-6f4d-44a5-fb58-8b5934464325"
      },
      "outputs": [
        {
          "output_type": "stream",
          "name": "stdout",
          "text": [
            "LR, N-Gram Vectors   : 0.8305\n",
            "\n",
            "CPU times: user 67.4 ms, sys: 2.98 ms, total: 70.4 ms\n",
            "Wall time: 38.9 ms\n"
          ]
        }
      ],
      "source": [
        "%%time\n",
        "# Linear Classifier on Ngram Level TF IDF Vectors\n",
        "accuracy3 = train_model(LogisticRegression(solver = 'lbfgs', max_iter = 100), X_train_tfidf_ngram, y_train, X_test_tfidf_ngram)\n",
        "print('LR, N-Gram Vectors   : %.4f\\n' % accuracy3)"
      ]
    },
    {
      "cell_type": "code",
      "execution_count": 26,
      "metadata": {
        "ExecuteTime": {
          "end_time": "2019-06-17T02:34:52.635899Z",
          "start_time": "2019-06-17T02:34:52.175122Z"
        },
        "id": "XPjIxmtKLtEA",
        "colab": {
          "base_uri": "https://localhost:8080/"
        },
        "outputId": "69d9164f-0baf-4baf-e2ab-810bd2930446"
      },
      "outputs": [
        {
          "output_type": "stream",
          "name": "stdout",
          "text": [
            "LR, CharLevel Vectors: 0.8485\n",
            "\n",
            "CPU times: user 540 ms, sys: 0 ns, total: 540 ms\n",
            "Wall time: 275 ms\n"
          ]
        }
      ],
      "source": [
        "%%time\n",
        "# Linear Classifier on Character Level TF IDF Vectors\n",
        "accuracy4 = train_model(LogisticRegression(solver = 'lbfgs', max_iter = 100), X_train_tfidf_ngram_chars, y_train, X_test_tfidf_ngram_chars)\n",
        "print('LR, CharLevel Vectors: %.4f\\n' % accuracy4)"
      ]
    },
    {
      "cell_type": "code",
      "execution_count": 27,
      "metadata": {
        "ExecuteTime": {
          "end_time": "2019-06-17T02:34:53.029844Z",
          "start_time": "2019-06-17T02:34:53.018872Z"
        },
        "id": "ZFK_LWTcLtED"
      },
      "outputs": [],
      "source": [
        "results.loc['Logistic Regression'] = {\n",
        "    'Count Vectors': accuracy1,\n",
        "    'WordLevel TF-IDF': accuracy2,\n",
        "    'N-Gram Vectors': accuracy3,\n",
        "    'CharLevel Vectors': accuracy4}"
      ]
    },
    {
      "cell_type": "markdown",
      "metadata": {
        "id": "q1wYto68LtEE"
      },
      "source": [
        "### Support Vector Machine"
      ]
    },
    {
      "cell_type": "code",
      "execution_count": 28,
      "metadata": {
        "ExecuteTime": {
          "end_time": "2019-06-17T02:34:54.237613Z",
          "start_time": "2019-06-17T02:34:53.406835Z"
        },
        "id": "yYGz8he5LtEE",
        "colab": {
          "base_uri": "https://localhost:8080/"
        },
        "outputId": "65a9b330-7c0e-4226-ed6c-28d07f6ddc0f"
      },
      "outputs": [
        {
          "output_type": "stream",
          "name": "stdout",
          "text": [
            "SVM, Count Vectors    : 0.8345\n",
            "\n",
            "CPU times: user 1.14 s, sys: 6.93 ms, total: 1.15 s\n",
            "Wall time: 1.15 s\n"
          ]
        }
      ],
      "source": [
        "%%time\n",
        "# Support Vector Machine on Count Vectors\n",
        "accuracy1 = train_model(LinearSVC(), X_train_count, y_train, X_test_count)\n",
        "print('SVM, Count Vectors    : %.4f\\n' % accuracy1)"
      ]
    },
    {
      "cell_type": "code",
      "execution_count": 29,
      "metadata": {
        "ExecuteTime": {
          "end_time": "2019-06-17T02:34:54.743263Z",
          "start_time": "2019-06-17T02:34:54.606629Z"
        },
        "id": "wMt26K0cLtEG",
        "colab": {
          "base_uri": "https://localhost:8080/"
        },
        "outputId": "3f2e07ff-bde4-4714-af64-c2fcea9045d4"
      },
      "outputs": [
        {
          "output_type": "stream",
          "name": "stdout",
          "text": [
            "SVM, WordLevel TF-IDF : 0.8630\n",
            "\n",
            "CPU times: user 142 ms, sys: 0 ns, total: 142 ms\n",
            "Wall time: 147 ms\n"
          ]
        }
      ],
      "source": [
        "%%time\n",
        "# Support Vector Machine on Word Level TF IDF Vectors\n",
        "accuracy2 = train_model(LinearSVC(), X_train_tfidf, y_train, X_test_tfidf)\n",
        "print('SVM, WordLevel TF-IDF : %.4f\\n' % accuracy2)"
      ]
    },
    {
      "cell_type": "code",
      "execution_count": 30,
      "metadata": {
        "ExecuteTime": {
          "end_time": "2019-06-17T02:34:55.220003Z",
          "start_time": "2019-06-17T02:34:55.119256Z"
        },
        "id": "eFt6Y1VvLtEI",
        "colab": {
          "base_uri": "https://localhost:8080/"
        },
        "outputId": "7368c2c9-7660-450a-a41b-97ef7f98b8fc"
      },
      "outputs": [
        {
          "output_type": "stream",
          "name": "stdout",
          "text": [
            "SVM, N-Gram Vectors   : 0.8135\n",
            "\n",
            "CPU times: user 72.6 ms, sys: 0 ns, total: 72.6 ms\n",
            "Wall time: 84.7 ms\n"
          ]
        }
      ],
      "source": [
        "%%time\n",
        "# Support Vector Machine on Ngram Level TF IDF Vectors\n",
        "accuracy3 = train_model(LinearSVC(), X_train_tfidf_ngram, y_train, X_test_tfidf_ngram)\n",
        "print('SVM, N-Gram Vectors   : %.4f\\n' % accuracy3)"
      ]
    },
    {
      "cell_type": "code",
      "execution_count": 31,
      "metadata": {
        "ExecuteTime": {
          "end_time": "2019-06-17T02:34:56.139528Z",
          "start_time": "2019-06-17T02:34:55.585010Z"
        },
        "id": "iqhsS579LtEL",
        "colab": {
          "base_uri": "https://localhost:8080/"
        },
        "outputId": "2a93e40e-d4bc-416d-a030-aaaacf24492e"
      },
      "outputs": [
        {
          "output_type": "stream",
          "name": "stdout",
          "text": [
            "SVM, CharLevel Vectors: 0.8600\n",
            "\n",
            "CPU times: user 1.19 s, sys: 43.8 ms, total: 1.24 s\n",
            "Wall time: 1.3 s\n"
          ]
        }
      ],
      "source": [
        "%%time\n",
        "# Support Vector Machine on Character Level TF IDF Vectors\n",
        "accuracy4 = train_model(LinearSVC(), X_train_tfidf_ngram_chars, y_train, X_test_tfidf_ngram_chars)\n",
        "print('SVM, CharLevel Vectors: %.4f\\n' % accuracy4)"
      ]
    },
    {
      "cell_type": "code",
      "execution_count": 32,
      "metadata": {
        "ExecuteTime": {
          "end_time": "2019-06-17T02:34:56.501558Z",
          "start_time": "2019-06-17T02:34:56.492592Z"
        },
        "id": "go0bcKeILtEN"
      },
      "outputs": [],
      "source": [
        "results.loc['Support Vector Machine'] = {\n",
        "    'Count Vectors': accuracy1,\n",
        "    'WordLevel TF-IDF': accuracy2,\n",
        "    'N-Gram Vectors': accuracy3,\n",
        "    'CharLevel Vectors': accuracy4}"
      ]
    },
    {
      "cell_type": "markdown",
      "metadata": {
        "id": "gLGxWK0yLtEO"
      },
      "source": [
        "### Bagging Models"
      ]
    },
    {
      "cell_type": "code",
      "execution_count": 33,
      "metadata": {
        "ExecuteTime": {
          "end_time": "2019-06-17T02:35:20.807157Z",
          "start_time": "2019-06-17T02:34:56.823697Z"
        },
        "id": "HR8aOytWLtEO",
        "colab": {
          "base_uri": "https://localhost:8080/"
        },
        "outputId": "f7071ca9-1867-4227-9e83-be46b940e97b"
      },
      "outputs": [
        {
          "output_type": "stream",
          "name": "stdout",
          "text": [
            "RF, Count Vectors    : 0.8265\n",
            "\n",
            "CPU times: user 14.1 s, sys: 31.1 ms, total: 14.1 s\n",
            "Wall time: 14.2 s\n"
          ]
        }
      ],
      "source": [
        "%%time\n",
        "# Bagging (Random Forest) on Count Vectors\n",
        "accuracy1 = train_model(RandomForestClassifier(n_estimators = 100), X_train_count, y_train, X_test_count)\n",
        "print('RF, Count Vectors    : %.4f\\n' % accuracy1)"
      ]
    },
    {
      "cell_type": "code",
      "execution_count": 34,
      "metadata": {
        "ExecuteTime": {
          "end_time": "2019-06-17T02:35:30.127233Z",
          "start_time": "2019-06-17T02:35:21.198110Z"
        },
        "id": "zXcTCTEGLtET",
        "colab": {
          "base_uri": "https://localhost:8080/"
        },
        "outputId": "9de1dde1-7390-4361-9c34-2102d5ed6342"
      },
      "outputs": [
        {
          "output_type": "stream",
          "name": "stdout",
          "text": [
            "RF, WordLevel TF-IDF : 0.8220\n",
            "\n",
            "CPU times: user 9.18 s, sys: 15 ms, total: 9.2 s\n",
            "Wall time: 9.2 s\n"
          ]
        }
      ],
      "source": [
        "%%time\n",
        "# Bagging (Random Forest) on Word Level TF IDF Vectors\n",
        "accuracy2 = train_model(RandomForestClassifier(n_estimators = 100), X_train_tfidf, y_train, X_test_tfidf)\n",
        "print('RF, WordLevel TF-IDF : %.4f\\n' % accuracy2)"
      ]
    },
    {
      "cell_type": "code",
      "execution_count": 35,
      "metadata": {
        "ExecuteTime": {
          "end_time": "2019-06-17T02:35:40.162390Z",
          "start_time": "2019-06-17T02:35:30.607944Z"
        },
        "id": "EnvT8qvSLtEW",
        "colab": {
          "base_uri": "https://localhost:8080/"
        },
        "outputId": "15860aa3-8975-4630-b92f-a2b058912210"
      },
      "outputs": [
        {
          "output_type": "stream",
          "name": "stdout",
          "text": [
            "RF, N-Gram Vectors   : 0.7900\n",
            "\n",
            "CPU times: user 9.64 s, sys: 13 ms, total: 9.65 s\n",
            "Wall time: 9.68 s\n"
          ]
        }
      ],
      "source": [
        "%%time\n",
        "# Bagging (Random Forest) on Ngram Level TF IDF Vectors\n",
        "accuracy3 = train_model(RandomForestClassifier(n_estimators = 100), X_train_tfidf_ngram, y_train, X_test_tfidf_ngram)\n",
        "print('RF, N-Gram Vectors   : %.4f\\n' % accuracy3)"
      ]
    },
    {
      "cell_type": "code",
      "execution_count": 36,
      "metadata": {
        "ExecuteTime": {
          "end_time": "2019-06-17T02:36:07.640904Z",
          "start_time": "2019-06-17T02:35:40.542371Z"
        },
        "id": "8jt-dTVELtEX",
        "colab": {
          "base_uri": "https://localhost:8080/"
        },
        "outputId": "21d18d91-ac54-487d-d01d-3fb1cdcd40e2"
      },
      "outputs": [
        {
          "output_type": "stream",
          "name": "stdout",
          "text": [
            "RF, CharLevel Vectors: 0.7870\n",
            "\n",
            "CPU times: user 31.4 s, sys: 64.9 ms, total: 31.4 s\n",
            "Wall time: 31.5 s\n"
          ]
        }
      ],
      "source": [
        "%%time\n",
        "# Bagging (Random Forest) on Character Level TF IDF Vectors\n",
        "accuracy4 = train_model(RandomForestClassifier(n_estimators = 100), X_train_tfidf_ngram_chars, y_train, X_test_tfidf_ngram_chars)\n",
        "print('RF, CharLevel Vectors: %.4f\\n' % accuracy4)"
      ]
    },
    {
      "cell_type": "code",
      "execution_count": 37,
      "metadata": {
        "ExecuteTime": {
          "end_time": "2019-06-17T02:36:08.104108Z",
          "start_time": "2019-06-17T02:36:08.097127Z"
        },
        "id": "fVKeCH_VLtEZ"
      },
      "outputs": [],
      "source": [
        "results.loc['Random Forest'] = {\n",
        "    'Count Vectors': accuracy1,\n",
        "    'WordLevel TF-IDF': accuracy2,\n",
        "    'N-Gram Vectors': accuracy3,\n",
        "    'CharLevel Vectors': accuracy4}"
      ]
    },
    {
      "cell_type": "markdown",
      "metadata": {
        "id": "oyVz4Q6ILtEa"
      },
      "source": [
        "### Boosting Models"
      ]
    },
    {
      "cell_type": "code",
      "execution_count": 38,
      "metadata": {
        "ExecuteTime": {
          "end_time": "2019-06-17T02:36:37.197296Z",
          "start_time": "2019-06-17T02:36:08.451184Z"
        },
        "id": "8wGvHTg-LtEb",
        "colab": {
          "base_uri": "https://localhost:8080/"
        },
        "outputId": "5a111890-6b36-42b8-e3f2-5e470f7d554b"
      },
      "outputs": [
        {
          "output_type": "stream",
          "name": "stdout",
          "text": [
            "GB, Count Vectors    : 0.7990\n",
            "\n",
            "CPU times: user 8.52 s, sys: 8.98 ms, total: 8.53 s\n",
            "Wall time: 8.5 s\n"
          ]
        }
      ],
      "source": [
        "%%time\n",
        "# Gradient Boosting on Count Vectors\n",
        "accuracy1 = train_model(GradientBoostingClassifier(), X_train_count, y_train, X_test_count)\n",
        "print('GB, Count Vectors    : %.4f\\n' % accuracy1)"
      ]
    },
    {
      "cell_type": "code",
      "execution_count": 39,
      "metadata": {
        "ExecuteTime": {
          "end_time": "2019-06-17T02:36:52.852454Z",
          "start_time": "2019-06-17T02:36:37.714920Z"
        },
        "id": "HJNwQf57LtEd",
        "colab": {
          "base_uri": "https://localhost:8080/"
        },
        "outputId": "05f0ff75-5b40-4f64-dd56-28cdb6a83658"
      },
      "outputs": [
        {
          "output_type": "stream",
          "name": "stdout",
          "text": [
            "GB, WordLevel TF-IDF : 0.7970\n",
            "\n",
            "CPU times: user 21.8 s, sys: 25 ms, total: 21.8 s\n",
            "Wall time: 21.9 s\n"
          ]
        }
      ],
      "source": [
        "%%time\n",
        "# Gradient Boosting on Word Level TF IDF Vectors\n",
        "accuracy2 = train_model(GradientBoostingClassifier(), X_train_tfidf, y_train, X_test_tfidf)\n",
        "print('GB, WordLevel TF-IDF : %.4f\\n' % accuracy2)"
      ]
    },
    {
      "cell_type": "code",
      "execution_count": 40,
      "metadata": {
        "ExecuteTime": {
          "end_time": "2019-06-17T02:37:02.608379Z",
          "start_time": "2019-06-17T02:36:53.252355Z"
        },
        "id": "iyPqLMgkLtEe",
        "colab": {
          "base_uri": "https://localhost:8080/"
        },
        "outputId": "f586a6e0-a78c-4d40-fcb4-438019bece47"
      },
      "outputs": [
        {
          "output_type": "stream",
          "name": "stdout",
          "text": [
            "GB, N-Gram Vectors   : 0.7380\n",
            "\n",
            "CPU times: user 13.2 s, sys: 19 ms, total: 13.2 s\n",
            "Wall time: 13.2 s\n"
          ]
        }
      ],
      "source": [
        "%%time\n",
        "# Gradient Boosting on Ngram Level TF IDF Vectors\n",
        "accuracy3 = train_model(GradientBoostingClassifier(), X_train_tfidf_ngram, y_train, X_test_tfidf_ngram)\n",
        "print('GB, N-Gram Vectors   : %.4f\\n' % accuracy3)"
      ]
    },
    {
      "cell_type": "code",
      "execution_count": 41,
      "metadata": {
        "ExecuteTime": {
          "end_time": "2019-06-17T02:39:14.314194Z",
          "start_time": "2019-06-17T02:37:03.039224Z"
        },
        "id": "1KYdyatTLtEg",
        "colab": {
          "base_uri": "https://localhost:8080/"
        },
        "outputId": "41db89bf-59fc-4e5b-eec8-bbc3eadf45e6"
      },
      "outputs": [
        {
          "output_type": "stream",
          "name": "stdout",
          "text": [
            "GB, CharLevel Vectors: 0.8025\n",
            "\n",
            "CPU times: user 3min 14s, sys: 252 ms, total: 3min 14s\n",
            "Wall time: 3min 15s\n"
          ]
        }
      ],
      "source": [
        "%%time\n",
        "# Gradient Boosting on Character Level TF IDF Vectors\n",
        "accuracy4 = train_model(GradientBoostingClassifier(), X_train_tfidf_ngram_chars, y_train, X_test_tfidf_ngram_chars)\n",
        "print('GB, CharLevel Vectors: %.4f\\n' % accuracy4)"
      ]
    },
    {
      "cell_type": "code",
      "execution_count": 42,
      "metadata": {
        "ExecuteTime": {
          "end_time": "2019-06-17T02:39:14.683222Z",
          "start_time": "2019-06-17T02:39:14.675213Z"
        },
        "id": "AC0hWO59LtEj",
        "scrolled": true
      },
      "outputs": [],
      "source": [
        "results.loc['Gradient Boosting'] = {\n",
        "    'Count Vectors': accuracy1,\n",
        "    'WordLevel TF-IDF': accuracy2,\n",
        "    'N-Gram Vectors': accuracy3,\n",
        "    'CharLevel Vectors': accuracy4}"
      ]
    },
    {
      "cell_type": "code",
      "execution_count": 43,
      "metadata": {
        "ExecuteTime": {
          "end_time": "2019-06-17T02:39:15.024279Z",
          "start_time": "2019-06-17T02:39:15.010319Z"
        },
        "id": "b9fY4J7XLtEk",
        "colab": {
          "base_uri": "https://localhost:8080/",
          "height": 206
        },
        "outputId": "c8260634-3d09-4bd3-d885-e40d4daac3e5"
      },
      "outputs": [
        {
          "output_type": "execute_result",
          "data": {
            "text/plain": [
              "                        Count Vectors  WordLevel TF-IDF  N-Gram Vectors  \\\n",
              "Naïve Bayes                    0.8520             0.856          0.8375   \n",
              "Logistic Regression            0.8515             0.871          0.8305   \n",
              "Support Vector Machine         0.8345             0.863          0.8135   \n",
              "Random Forest                  0.8265             0.822          0.7900   \n",
              "Gradient Boosting              0.7990             0.797          0.7380   \n",
              "\n",
              "                        CharLevel Vectors  \n",
              "Naïve Bayes                        0.8195  \n",
              "Logistic Regression                0.8485  \n",
              "Support Vector Machine             0.8600  \n",
              "Random Forest                      0.7870  \n",
              "Gradient Boosting                  0.8025  "
            ],
            "text/html": [
              "\n",
              "  <div id=\"df-5de24ac3-d178-4593-b900-b4a13602838f\" class=\"colab-df-container\">\n",
              "    <div>\n",
              "<style scoped>\n",
              "    .dataframe tbody tr th:only-of-type {\n",
              "        vertical-align: middle;\n",
              "    }\n",
              "\n",
              "    .dataframe tbody tr th {\n",
              "        vertical-align: top;\n",
              "    }\n",
              "\n",
              "    .dataframe thead th {\n",
              "        text-align: right;\n",
              "    }\n",
              "</style>\n",
              "<table border=\"1\" class=\"dataframe\">\n",
              "  <thead>\n",
              "    <tr style=\"text-align: right;\">\n",
              "      <th></th>\n",
              "      <th>Count Vectors</th>\n",
              "      <th>WordLevel TF-IDF</th>\n",
              "      <th>N-Gram Vectors</th>\n",
              "      <th>CharLevel Vectors</th>\n",
              "    </tr>\n",
              "  </thead>\n",
              "  <tbody>\n",
              "    <tr>\n",
              "      <th>Naïve Bayes</th>\n",
              "      <td>0.8520</td>\n",
              "      <td>0.856</td>\n",
              "      <td>0.8375</td>\n",
              "      <td>0.8195</td>\n",
              "    </tr>\n",
              "    <tr>\n",
              "      <th>Logistic Regression</th>\n",
              "      <td>0.8515</td>\n",
              "      <td>0.871</td>\n",
              "      <td>0.8305</td>\n",
              "      <td>0.8485</td>\n",
              "    </tr>\n",
              "    <tr>\n",
              "      <th>Support Vector Machine</th>\n",
              "      <td>0.8345</td>\n",
              "      <td>0.863</td>\n",
              "      <td>0.8135</td>\n",
              "      <td>0.8600</td>\n",
              "    </tr>\n",
              "    <tr>\n",
              "      <th>Random Forest</th>\n",
              "      <td>0.8265</td>\n",
              "      <td>0.822</td>\n",
              "      <td>0.7900</td>\n",
              "      <td>0.7870</td>\n",
              "    </tr>\n",
              "    <tr>\n",
              "      <th>Gradient Boosting</th>\n",
              "      <td>0.7990</td>\n",
              "      <td>0.797</td>\n",
              "      <td>0.7380</td>\n",
              "      <td>0.8025</td>\n",
              "    </tr>\n",
              "  </tbody>\n",
              "</table>\n",
              "</div>\n",
              "    <div class=\"colab-df-buttons\">\n",
              "\n",
              "  <div class=\"colab-df-container\">\n",
              "    <button class=\"colab-df-convert\" onclick=\"convertToInteractive('df-5de24ac3-d178-4593-b900-b4a13602838f')\"\n",
              "            title=\"Convert this dataframe to an interactive table.\"\n",
              "            style=\"display:none;\">\n",
              "\n",
              "  <svg xmlns=\"http://www.w3.org/2000/svg\" height=\"24px\" viewBox=\"0 -960 960 960\">\n",
              "    <path d=\"M120-120v-720h720v720H120Zm60-500h600v-160H180v160Zm220 220h160v-160H400v160Zm0 220h160v-160H400v160ZM180-400h160v-160H180v160Zm440 0h160v-160H620v160ZM180-180h160v-160H180v160Zm440 0h160v-160H620v160Z\"/>\n",
              "  </svg>\n",
              "    </button>\n",
              "\n",
              "  <style>\n",
              "    .colab-df-container {\n",
              "      display:flex;\n",
              "      gap: 12px;\n",
              "    }\n",
              "\n",
              "    .colab-df-convert {\n",
              "      background-color: #E8F0FE;\n",
              "      border: none;\n",
              "      border-radius: 50%;\n",
              "      cursor: pointer;\n",
              "      display: none;\n",
              "      fill: #1967D2;\n",
              "      height: 32px;\n",
              "      padding: 0 0 0 0;\n",
              "      width: 32px;\n",
              "    }\n",
              "\n",
              "    .colab-df-convert:hover {\n",
              "      background-color: #E2EBFA;\n",
              "      box-shadow: 0px 1px 2px rgba(60, 64, 67, 0.3), 0px 1px 3px 1px rgba(60, 64, 67, 0.15);\n",
              "      fill: #174EA6;\n",
              "    }\n",
              "\n",
              "    .colab-df-buttons div {\n",
              "      margin-bottom: 4px;\n",
              "    }\n",
              "\n",
              "    [theme=dark] .colab-df-convert {\n",
              "      background-color: #3B4455;\n",
              "      fill: #D2E3FC;\n",
              "    }\n",
              "\n",
              "    [theme=dark] .colab-df-convert:hover {\n",
              "      background-color: #434B5C;\n",
              "      box-shadow: 0px 1px 3px 1px rgba(0, 0, 0, 0.15);\n",
              "      filter: drop-shadow(0px 1px 2px rgba(0, 0, 0, 0.3));\n",
              "      fill: #FFFFFF;\n",
              "    }\n",
              "  </style>\n",
              "\n",
              "    <script>\n",
              "      const buttonEl =\n",
              "        document.querySelector('#df-5de24ac3-d178-4593-b900-b4a13602838f button.colab-df-convert');\n",
              "      buttonEl.style.display =\n",
              "        google.colab.kernel.accessAllowed ? 'block' : 'none';\n",
              "\n",
              "      async function convertToInteractive(key) {\n",
              "        const element = document.querySelector('#df-5de24ac3-d178-4593-b900-b4a13602838f');\n",
              "        const dataTable =\n",
              "          await google.colab.kernel.invokeFunction('convertToInteractive',\n",
              "                                                    [key], {});\n",
              "        if (!dataTable) return;\n",
              "\n",
              "        const docLinkHtml = 'Like what you see? Visit the ' +\n",
              "          '<a target=\"_blank\" href=https://colab.research.google.com/notebooks/data_table.ipynb>data table notebook</a>'\n",
              "          + ' to learn more about interactive tables.';\n",
              "        element.innerHTML = '';\n",
              "        dataTable['output_type'] = 'display_data';\n",
              "        await google.colab.output.renderOutput(dataTable, element);\n",
              "        const docLink = document.createElement('div');\n",
              "        docLink.innerHTML = docLinkHtml;\n",
              "        element.appendChild(docLink);\n",
              "      }\n",
              "    </script>\n",
              "  </div>\n",
              "\n",
              "\n",
              "    <div id=\"df-00fc1825-0b62-4193-a527-45ac7ab5d4a9\">\n",
              "      <button class=\"colab-df-quickchart\" onclick=\"quickchart('df-00fc1825-0b62-4193-a527-45ac7ab5d4a9')\"\n",
              "                title=\"Suggest charts\"\n",
              "                style=\"display:none;\">\n",
              "\n",
              "<svg xmlns=\"http://www.w3.org/2000/svg\" height=\"24px\"viewBox=\"0 0 24 24\"\n",
              "     width=\"24px\">\n",
              "    <g>\n",
              "        <path d=\"M19 3H5c-1.1 0-2 .9-2 2v14c0 1.1.9 2 2 2h14c1.1 0 2-.9 2-2V5c0-1.1-.9-2-2-2zM9 17H7v-7h2v7zm4 0h-2V7h2v10zm4 0h-2v-4h2v4z\"/>\n",
              "    </g>\n",
              "</svg>\n",
              "      </button>\n",
              "\n",
              "<style>\n",
              "  .colab-df-quickchart {\n",
              "      --bg-color: #E8F0FE;\n",
              "      --fill-color: #1967D2;\n",
              "      --hover-bg-color: #E2EBFA;\n",
              "      --hover-fill-color: #174EA6;\n",
              "      --disabled-fill-color: #AAA;\n",
              "      --disabled-bg-color: #DDD;\n",
              "  }\n",
              "\n",
              "  [theme=dark] .colab-df-quickchart {\n",
              "      --bg-color: #3B4455;\n",
              "      --fill-color: #D2E3FC;\n",
              "      --hover-bg-color: #434B5C;\n",
              "      --hover-fill-color: #FFFFFF;\n",
              "      --disabled-bg-color: #3B4455;\n",
              "      --disabled-fill-color: #666;\n",
              "  }\n",
              "\n",
              "  .colab-df-quickchart {\n",
              "    background-color: var(--bg-color);\n",
              "    border: none;\n",
              "    border-radius: 50%;\n",
              "    cursor: pointer;\n",
              "    display: none;\n",
              "    fill: var(--fill-color);\n",
              "    height: 32px;\n",
              "    padding: 0;\n",
              "    width: 32px;\n",
              "  }\n",
              "\n",
              "  .colab-df-quickchart:hover {\n",
              "    background-color: var(--hover-bg-color);\n",
              "    box-shadow: 0 1px 2px rgba(60, 64, 67, 0.3), 0 1px 3px 1px rgba(60, 64, 67, 0.15);\n",
              "    fill: var(--button-hover-fill-color);\n",
              "  }\n",
              "\n",
              "  .colab-df-quickchart-complete:disabled,\n",
              "  .colab-df-quickchart-complete:disabled:hover {\n",
              "    background-color: var(--disabled-bg-color);\n",
              "    fill: var(--disabled-fill-color);\n",
              "    box-shadow: none;\n",
              "  }\n",
              "\n",
              "  .colab-df-spinner {\n",
              "    border: 2px solid var(--fill-color);\n",
              "    border-color: transparent;\n",
              "    border-bottom-color: var(--fill-color);\n",
              "    animation:\n",
              "      spin 1s steps(1) infinite;\n",
              "  }\n",
              "\n",
              "  @keyframes spin {\n",
              "    0% {\n",
              "      border-color: transparent;\n",
              "      border-bottom-color: var(--fill-color);\n",
              "      border-left-color: var(--fill-color);\n",
              "    }\n",
              "    20% {\n",
              "      border-color: transparent;\n",
              "      border-left-color: var(--fill-color);\n",
              "      border-top-color: var(--fill-color);\n",
              "    }\n",
              "    30% {\n",
              "      border-color: transparent;\n",
              "      border-left-color: var(--fill-color);\n",
              "      border-top-color: var(--fill-color);\n",
              "      border-right-color: var(--fill-color);\n",
              "    }\n",
              "    40% {\n",
              "      border-color: transparent;\n",
              "      border-right-color: var(--fill-color);\n",
              "      border-top-color: var(--fill-color);\n",
              "    }\n",
              "    60% {\n",
              "      border-color: transparent;\n",
              "      border-right-color: var(--fill-color);\n",
              "    }\n",
              "    80% {\n",
              "      border-color: transparent;\n",
              "      border-right-color: var(--fill-color);\n",
              "      border-bottom-color: var(--fill-color);\n",
              "    }\n",
              "    90% {\n",
              "      border-color: transparent;\n",
              "      border-bottom-color: var(--fill-color);\n",
              "    }\n",
              "  }\n",
              "</style>\n",
              "\n",
              "      <script>\n",
              "        async function quickchart(key) {\n",
              "          const quickchartButtonEl =\n",
              "            document.querySelector('#' + key + ' button');\n",
              "          quickchartButtonEl.disabled = true;  // To prevent multiple clicks.\n",
              "          quickchartButtonEl.classList.add('colab-df-spinner');\n",
              "          try {\n",
              "            const charts = await google.colab.kernel.invokeFunction(\n",
              "                'suggestCharts', [key], {});\n",
              "          } catch (error) {\n",
              "            console.error('Error during call to suggestCharts:', error);\n",
              "          }\n",
              "          quickchartButtonEl.classList.remove('colab-df-spinner');\n",
              "          quickchartButtonEl.classList.add('colab-df-quickchart-complete');\n",
              "        }\n",
              "        (() => {\n",
              "          let quickchartButtonEl =\n",
              "            document.querySelector('#df-00fc1825-0b62-4193-a527-45ac7ab5d4a9 button');\n",
              "          quickchartButtonEl.style.display =\n",
              "            google.colab.kernel.accessAllowed ? 'block' : 'none';\n",
              "        })();\n",
              "      </script>\n",
              "    </div>\n",
              "\n",
              "  <div id=\"id_c10f036b-35df-4853-a7bf-cd23294b4df7\">\n",
              "    <style>\n",
              "      .colab-df-generate {\n",
              "        background-color: #E8F0FE;\n",
              "        border: none;\n",
              "        border-radius: 50%;\n",
              "        cursor: pointer;\n",
              "        display: none;\n",
              "        fill: #1967D2;\n",
              "        height: 32px;\n",
              "        padding: 0 0 0 0;\n",
              "        width: 32px;\n",
              "      }\n",
              "\n",
              "      .colab-df-generate:hover {\n",
              "        background-color: #E2EBFA;\n",
              "        box-shadow: 0px 1px 2px rgba(60, 64, 67, 0.3), 0px 1px 3px 1px rgba(60, 64, 67, 0.15);\n",
              "        fill: #174EA6;\n",
              "      }\n",
              "\n",
              "      [theme=dark] .colab-df-generate {\n",
              "        background-color: #3B4455;\n",
              "        fill: #D2E3FC;\n",
              "      }\n",
              "\n",
              "      [theme=dark] .colab-df-generate:hover {\n",
              "        background-color: #434B5C;\n",
              "        box-shadow: 0px 1px 3px 1px rgba(0, 0, 0, 0.15);\n",
              "        filter: drop-shadow(0px 1px 2px rgba(0, 0, 0, 0.3));\n",
              "        fill: #FFFFFF;\n",
              "      }\n",
              "    </style>\n",
              "    <button class=\"colab-df-generate\" onclick=\"generateWithVariable('results')\"\n",
              "            title=\"Generate code using this dataframe.\"\n",
              "            style=\"display:none;\">\n",
              "\n",
              "  <svg xmlns=\"http://www.w3.org/2000/svg\" height=\"24px\"viewBox=\"0 0 24 24\"\n",
              "       width=\"24px\">\n",
              "    <path d=\"M7,19H8.4L18.45,9,17,7.55,7,17.6ZM5,21V16.75L18.45,3.32a2,2,0,0,1,2.83,0l1.4,1.43a1.91,1.91,0,0,1,.58,1.4,1.91,1.91,0,0,1-.58,1.4L9.25,21ZM18.45,9,17,7.55Zm-12,3A5.31,5.31,0,0,0,4.9,8.1,5.31,5.31,0,0,0,1,6.5,5.31,5.31,0,0,0,4.9,4.9,5.31,5.31,0,0,0,6.5,1,5.31,5.31,0,0,0,8.1,4.9,5.31,5.31,0,0,0,12,6.5,5.46,5.46,0,0,0,6.5,12Z\"/>\n",
              "  </svg>\n",
              "    </button>\n",
              "    <script>\n",
              "      (() => {\n",
              "      const buttonEl =\n",
              "        document.querySelector('#id_c10f036b-35df-4853-a7bf-cd23294b4df7 button.colab-df-generate');\n",
              "      buttonEl.style.display =\n",
              "        google.colab.kernel.accessAllowed ? 'block' : 'none';\n",
              "\n",
              "      buttonEl.onclick = () => {\n",
              "        google.colab.notebook.generateWithVariable('results');\n",
              "      }\n",
              "      })();\n",
              "    </script>\n",
              "  </div>\n",
              "\n",
              "    </div>\n",
              "  </div>\n"
            ],
            "application/vnd.google.colaboratory.intrinsic+json": {
              "type": "dataframe",
              "variable_name": "results",
              "summary": "{\n  \"name\": \"results\",\n  \"rows\": 5,\n  \"fields\": [\n    {\n      \"column\": \"Count Vectors\",\n      \"properties\": {\n        \"dtype\": \"number\",\n        \"std\": 0.02181341330466187,\n        \"min\": 0.799,\n        \"max\": 0.852,\n        \"num_unique_values\": 5,\n        \"samples\": [\n          0.8515,\n          0.799,\n          0.8345\n        ],\n        \"semantic_type\": \"\",\n        \"description\": \"\"\n      }\n    },\n    {\n      \"column\": \"WordLevel TF-IDF\",\n      \"properties\": {\n        \"dtype\": \"number\",\n        \"std\": 0.03123619695161367,\n        \"min\": 0.797,\n        \"max\": 0.871,\n        \"num_unique_values\": 5,\n        \"samples\": [\n          0.871,\n          0.797,\n          0.863\n        ],\n        \"semantic_type\": \"\",\n        \"description\": \"\"\n      }\n    },\n    {\n      \"column\": \"N-Gram Vectors\",\n      \"properties\": {\n        \"dtype\": \"number\",\n        \"std\": 0.04013944444059983,\n        \"min\": 0.738,\n        \"max\": 0.8375,\n        \"num_unique_values\": 5,\n        \"samples\": [\n          0.8305,\n          0.738,\n          0.8135\n        ],\n        \"semantic_type\": \"\",\n        \"description\": \"\"\n      }\n    },\n    {\n      \"column\": \"CharLevel Vectors\",\n      \"properties\": {\n        \"dtype\": \"number\",\n        \"std\": 0.03060432975903899,\n        \"min\": 0.787,\n        \"max\": 0.86,\n        \"num_unique_values\": 5,\n        \"samples\": [\n          0.8485,\n          0.8025,\n          0.86\n        ],\n        \"semantic_type\": \"\",\n        \"description\": \"\"\n      }\n    }\n  ]\n}"
            }
          },
          "metadata": {},
          "execution_count": 43
        }
      ],
      "source": [
        "results"
      ]
    },
    {
      "cell_type": "markdown",
      "metadata": {
        "id": "ZGs7S0Ge3psJ"
      },
      "source": [
        "Which combination of features and model performed the best?"
      ]
    },
    {
      "cell_type": "markdown",
      "source": [
        "Answer: Based on the above results, word-level TF-IDF with logistic regression performed the best."
      ],
      "metadata": {
        "id": "KzMx9jypjzL8"
      }
    },
    {
      "cell_type": "markdown",
      "metadata": {
        "id": "RERADKgNFq9T"
      },
      "source": [
        "\n",
        "\n",
        "---\n",
        "\n",
        "\n",
        "\n",
        "---\n",
        "\n",
        "\n",
        "\n",
        "> > > > > > > > > © 2025 Institute of Data\n",
        "\n",
        "\n",
        "---\n",
        "\n",
        "\n",
        "\n",
        "---\n",
        "\n",
        "\n",
        "\n"
      ]
    }
  ],
  "metadata": {
    "colab": {
      "provenance": []
    },
    "kernelspec": {
      "display_name": "Python 3 (ipykernel)",
      "language": "python",
      "name": "python3"
    },
    "language_info": {
      "codemirror_mode": {
        "name": "ipython",
        "version": 3
      },
      "file_extension": ".py",
      "mimetype": "text/x-python",
      "name": "python",
      "nbconvert_exporter": "python",
      "pygments_lexer": "ipython3",
      "version": "3.11.7"
    },
    "varInspector": {
      "cols": {
        "lenName": 16,
        "lenType": 16,
        "lenVar": 40
      },
      "kernels_config": {
        "python": {
          "delete_cmd_postfix": "",
          "delete_cmd_prefix": "del ",
          "library": "var_list.py",
          "varRefreshCmd": "print(var_dic_list())"
        },
        "r": {
          "delete_cmd_postfix": ") ",
          "delete_cmd_prefix": "rm(",
          "library": "var_list.r",
          "varRefreshCmd": "cat(var_dic_list()) "
        }
      },
      "types_to_exclude": [
        "module",
        "function",
        "builtin_function_or_method",
        "instance",
        "_Feature"
      ],
      "window_display": false
    }
  },
  "nbformat": 4,
  "nbformat_minor": 0
}