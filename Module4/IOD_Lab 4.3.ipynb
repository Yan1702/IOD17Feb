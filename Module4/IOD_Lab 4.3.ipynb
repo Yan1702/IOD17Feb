{
 "cells": [
  {
   "cell_type": "markdown",
   "metadata": {
    "id": "gm7oR_yWsjnk"
   },
   "source": [
    "<div>\n",
    "<img src=https://www.institutedata.com/wp-content/uploads/2019/10/iod_h_tp_primary_c.svg width=\"300\">\n",
    "</div>"
   ]
  },
  {
   "cell_type": "markdown",
   "metadata": {
    "id": "UlfytRuusjnn"
   },
   "source": [
    "# Lab 4.3: Measurements"
   ]
  },
  {
   "cell_type": "markdown",
   "metadata": {
    "id": "oiMOGCtNGfRH"
   },
   "source": [
    "Building upon the forward feature selection technique, we apply it to the diabetes dataset. By iterating over the entire dataset, we identify the subset of features that yield the best adjusted R-squared score. Furthermore, we visualise the results by plotting the R-squared and adjusted R-squared values, providing insights into the model's performance with different feature combinations."
   ]
  },
  {
   "cell_type": "code",
   "execution_count": 4,
   "metadata": {
    "id": "xHsJeO0tsjno"
   },
   "outputs": [],
   "source": [
    "## Import Libraries\n",
    "\n",
    "import pandas as pd\n",
    "\n",
    "%matplotlib inline\n",
    "import matplotlib.pyplot as plt\n",
    "\n",
    "from sklearn import datasets\n",
    "from sklearn.linear_model import LinearRegression\n",
    "from sklearn.model_selection import train_test_split"
   ]
  },
  {
   "cell_type": "markdown",
   "metadata": {
    "id": "j-Y7yPDBsjnw"
   },
   "source": [
    "### 1. Forward Feature Selection\n",
    "\n",
    "> Forward Selection: Forward selection is an iterative method in which we start with having no feature in the model. In each iteration, we keep adding the feature which best improves our model till an addition of a new variable does not improve the performance of the model.\n",
    "\n",
    "Create a Regression model using Forward Feature Selection by looping over all the features adding one at a time until there are no improvements on the prediction metric ( R2  and  AdjustedR2  in this case)."
   ]
  },
  {
   "cell_type": "markdown",
   "metadata": {
    "id": "mFSxSn2hsjnz"
   },
   "source": [
    "#### 1.1 Load Diabetics Data Using datasets of sklearn"
   ]
  },
  {
   "cell_type": "code",
   "execution_count": 7,
   "metadata": {
    "id": "l2gHGPKVsjn0"
   },
   "outputs": [],
   "source": [
    "## Load the Diabetes dataset\n",
    "\n",
    "# Load the diabetes dataset from sklearn\n",
    "diabetes = datasets.load_diabetes()"
   ]
  },
  {
   "cell_type": "code",
   "execution_count": 8,
   "metadata": {
    "colab": {
     "base_uri": "https://localhost:8080/",
     "height": 712
    },
    "id": "VNyg3soKsjn3",
    "outputId": "230ac33d-8184-4fe3-c144-a594e8ee0a20"
   },
   "outputs": [
    {
     "name": "stdout",
     "output_type": "stream",
     "text": [
      ".. _diabetes_dataset:\n",
      "\n",
      "Diabetes dataset\n",
      "----------------\n",
      "\n",
      "Ten baseline variables, age, sex, body mass index, average blood\n",
      "pressure, and six blood serum measurements were obtained for each of n =\n",
      "442 diabetes patients, as well as the response of interest, a\n",
      "quantitative measure of disease progression one year after baseline.\n",
      "\n",
      "**Data Set Characteristics:**\n",
      "\n",
      ":Number of Instances: 442\n",
      "\n",
      ":Number of Attributes: First 10 columns are numeric predictive values\n",
      "\n",
      ":Target: Column 11 is a quantitative measure of disease progression one year after baseline\n",
      "\n",
      ":Attribute Information:\n",
      "    - age     age in years\n",
      "    - sex\n",
      "    - bmi     body mass index\n",
      "    - bp      average blood pressure\n",
      "    - s1      tc, total serum cholesterol\n",
      "    - s2      ldl, low-density lipoproteins\n",
      "    - s3      hdl, high-density lipoproteins\n",
      "    - s4      tch, total cholesterol / HDL\n",
      "    - s5      ltg, possibly log of serum triglycerides level\n",
      "    - s6      glu, blood sugar level\n",
      "\n",
      "Note: Each of these 10 feature variables have been mean centered and scaled by the standard deviation times the square root of `n_samples` (i.e. the sum of squares of each column totals 1).\n",
      "\n",
      "Source URL:\n",
      "https://www4.stat.ncsu.edu/~boos/var.select/diabetes.html\n",
      "\n",
      "For more information see:\n",
      "Bradley Efron, Trevor Hastie, Iain Johnstone and Robert Tibshirani (2004) \"Least Angle Regression,\" Annals of Statistics (with discussion), 407-499.\n",
      "(https://web.stanford.edu/~hastie/Papers/LARS/LeastAngle_2002.pdf)\n",
      "\n"
     ]
    }
   ],
   "source": [
    "# Description\n",
    "print(diabetes.DESCR)"
   ]
  },
  {
   "cell_type": "code",
   "execution_count": 9,
   "metadata": {
    "id": "0Le6yeYXsjn-"
   },
   "outputs": [],
   "source": [
    "# Predictors\n",
    "X = pd.DataFrame(diabetes.data, columns = diabetes.feature_names)"
   ]
  },
  {
   "cell_type": "code",
   "execution_count": 10,
   "metadata": {
    "id": "iR8WVIqssjoD"
   },
   "outputs": [],
   "source": [
    "# Target\n",
    "y = diabetes.target"
   ]
  },
  {
   "cell_type": "code",
   "execution_count": 11,
   "metadata": {
    "id": "QaaJqQxUsjoG"
   },
   "outputs": [],
   "source": [
    "## Create training and testing subsets\n",
    "\n",
    "X_train, X_test, y_train, y_test = train_test_split(X, y, test_size = 0.2, random_state = 42)"
   ]
  },
  {
   "cell_type": "markdown",
   "metadata": {
    "id": "9NPcYC45sjoI"
   },
   "source": [
    "#### 1.2 Use Forward Feature Selection to pick a good model\n",
    "\n",
    "**Hint: Same as Lab 4.2.2**\n",
    "\n",
    "- Add R^2 value in a list\n",
    "- Add Adjusted R^2 in another list\n",
    "- Display both R^2 and Adjusted R^2"
   ]
  },
  {
   "cell_type": "code",
   "execution_count": 13,
   "metadata": {
    "id": "Xnk9hncbsjoJ"
   },
   "outputs": [],
   "source": [
    "## Flag intermediate output\n",
    "\n",
    "show_steps = True   # for testing/debugging\n",
    "# show_steps = False  # without showing steps"
   ]
  },
  {
   "cell_type": "code",
   "execution_count": 14,
   "metadata": {
    "id": "DEqC7hHbsjoN"
   },
   "outputs": [
    {
     "name": "stdout",
     "output_type": "stream",
     "text": [
      "\n",
      "(Step) Excluded = s4,s5,s2,age,s1,sex,s6,s3,bmi,bp\n",
      "(Step) Trying s4...\n",
      "(Step) - Feature = s4\n",
      "(Step) - Adjusted R^2: This = 0.178; Best = 0.000\n",
      "(Step) - New Best!   : Feature = s4; R^2 = 0.181; Adjusted R^2 = 0.178\n",
      "(Step) Trying s5...\n",
      "(Step) - Feature = s5\n",
      "(Step) - Adjusted R^2: This = 0.303; Best = 0.178\n",
      "(Step) - New Best!   : Feature = s5; R^2 = 0.305; Adjusted R^2 = 0.303\n",
      "(Step) Trying s2...\n",
      "(Step) - Feature = s2\n",
      "(Step) - Adjusted R^2: This = 0.021; Best = 0.303\n",
      "(Step) Trying age...\n",
      "(Step) - Feature = age\n",
      "(Step) - Adjusted R^2: This = 0.036; Best = 0.303\n",
      "(Step) Trying s1...\n",
      "(Step) - Feature = s1\n",
      "(Step) - Adjusted R^2: This = 0.037; Best = 0.303\n",
      "(Step) Trying sex...\n",
      "(Step) - Feature = sex\n",
      "(Step) - Adjusted R^2: This = -0.003; Best = 0.303\n",
      "(Step) Trying s6...\n",
      "(Step) - Feature = s6\n",
      "(Step) - Adjusted R^2: This = 0.150; Best = 0.303\n",
      "(Step) Trying s3...\n",
      "(Step) - Feature = s3\n",
      "(Step) - Adjusted R^2: This = 0.145; Best = 0.303\n",
      "(Step) Trying bmi...\n",
      "(Step) - Feature = bmi\n",
      "(Step) - Adjusted R^2: This = 0.364; Best = 0.303\n",
      "(Step) - New Best!   : Feature = bmi; R^2 = 0.366; Adjusted R^2 = 0.364\n",
      "(Step) Trying bp...\n",
      "(Step) - Feature = bp\n",
      "(Step) - Adjusted R^2: This = 0.196; Best = 0.364\n",
      "Added feature bmi with R^2 = 0.366 and adjusted R^2 = 0.364\n",
      "\n",
      "(Step) Excluded = s4,s5,s2,age,s1,sex,s6,s3,bp\n",
      "(Step) Trying s4...\n",
      "(Step) - Feature = bmi,s4\n",
      "(Step) - Adjusted R^2: This = 0.396; Best = 0.364\n",
      "(Step) - New Best!   : Feature = s4; R^2 = 0.399; Adjusted R^2 = 0.396\n",
      "(Step) Trying s5...\n",
      "(Step) - Feature = bmi,s5\n",
      "(Step) - Adjusted R^2: This = 0.455; Best = 0.396\n",
      "(Step) - New Best!   : Feature = s5; R^2 = 0.458; Adjusted R^2 = 0.455\n",
      "(Step) Trying s2...\n",
      "(Step) - Feature = bmi,s2\n",
      "(Step) - Adjusted R^2: This = 0.362; Best = 0.455\n",
      "(Step) Trying age...\n",
      "(Step) - Feature = bmi,age\n",
      "(Step) - Adjusted R^2: This = 0.370; Best = 0.455\n",
      "(Step) Trying s1...\n",
      "(Step) - Feature = bmi,s1\n",
      "(Step) - Adjusted R^2: This = 0.364; Best = 0.455\n",
      "(Step) Trying sex...\n",
      "(Step) - Feature = bmi,sex\n",
      "(Step) - Adjusted R^2: This = 0.362; Best = 0.455\n",
      "(Step) Trying s6...\n",
      "(Step) - Feature = bmi,s6\n",
      "(Step) - Adjusted R^2: This = 0.388; Best = 0.455\n",
      "(Step) Trying s3...\n",
      "(Step) - Feature = bmi,s3\n",
      "(Step) - Adjusted R^2: This = 0.395; Best = 0.455\n",
      "(Step) Trying bp...\n",
      "(Step) - Feature = bmi,bp\n",
      "(Step) - Adjusted R^2: This = 0.413; Best = 0.455\n",
      "Added feature s5 with R^2 = 0.458 and adjusted R^2 = 0.455\n",
      "\n",
      "(Step) Excluded = s4,s2,age,s1,sex,s6,s3,bp\n",
      "(Step) Trying s4...\n",
      "(Step) - Feature = bmi,s5,s4\n",
      "(Step) - Adjusted R^2: This = 0.455; Best = 0.455\n",
      "(Step) Trying s2...\n",
      "(Step) - Feature = bmi,s5,s2\n",
      "(Step) - Adjusted R^2: This = 0.459; Best = 0.455\n",
      "(Step) - New Best!   : Feature = s2; R^2 = 0.463; Adjusted R^2 = 0.459\n",
      "(Step) Trying age...\n",
      "(Step) - Feature = bmi,s5,age\n",
      "(Step) - Adjusted R^2: This = 0.454; Best = 0.459\n",
      "(Step) Trying s1...\n",
      "(Step) - Feature = bmi,s5,s1\n",
      "(Step) - Adjusted R^2: This = 0.468; Best = 0.459\n",
      "(Step) - New Best!   : Feature = s1; R^2 = 0.472; Adjusted R^2 = 0.468\n",
      "(Step) Trying sex...\n",
      "(Step) - Feature = bmi,s5,sex\n",
      "(Step) - Adjusted R^2: This = 0.456; Best = 0.468\n",
      "(Step) Trying s6...\n",
      "(Step) - Feature = bmi,s5,s6\n",
      "(Step) - Adjusted R^2: This = 0.457; Best = 0.468\n",
      "(Step) Trying s3...\n",
      "(Step) - Feature = bmi,s5,s3\n",
      "(Step) - Adjusted R^2: This = 0.466; Best = 0.468\n",
      "(Step) Trying bp...\n",
      "(Step) - Feature = bmi,s5,bp\n",
      "(Step) - Adjusted R^2: This = 0.479; Best = 0.468\n",
      "(Step) - New Best!   : Feature = bp; R^2 = 0.483; Adjusted R^2 = 0.479\n",
      "Added feature bp with R^2 = 0.483 and adjusted R^2 = 0.479\n",
      "\n",
      "(Step) Excluded = s4,s2,age,s1,sex,s6,s3\n",
      "(Step) Trying s4...\n",
      "(Step) - Feature = bmi,s5,bp,s4\n",
      "(Step) - Adjusted R^2: This = 0.479; Best = 0.479\n",
      "(Step) - New Best!   : Feature = s4; R^2 = 0.485; Adjusted R^2 = 0.479\n",
      "(Step) Trying s2...\n",
      "(Step) - Feature = bmi,s5,bp,s2\n",
      "(Step) - Adjusted R^2: This = 0.483; Best = 0.479\n",
      "(Step) - New Best!   : Feature = s2; R^2 = 0.489; Adjusted R^2 = 0.483\n",
      "(Step) Trying age...\n",
      "(Step) - Feature = bmi,s5,bp,age\n",
      "(Step) - Adjusted R^2: This = 0.477; Best = 0.483\n",
      "(Step) Trying s1...\n",
      "(Step) - Feature = bmi,s5,bp,s1\n",
      "(Step) - Adjusted R^2: This = 0.493; Best = 0.483\n",
      "(Step) - New Best!   : Feature = s1; R^2 = 0.499; Adjusted R^2 = 0.493\n",
      "(Step) Trying sex...\n",
      "(Step) - Feature = bmi,s5,bp,sex\n",
      "(Step) - Adjusted R^2: This = 0.483; Best = 0.493\n",
      "(Step) Trying s6...\n",
      "(Step) - Feature = bmi,s5,bp,s6\n",
      "(Step) - Adjusted R^2: This = 0.478; Best = 0.493\n",
      "(Step) Trying s3...\n",
      "(Step) - Feature = bmi,s5,bp,s3\n",
      "(Step) - Adjusted R^2: This = 0.492; Best = 0.493\n",
      "Added feature s1 with R^2 = 0.499 and adjusted R^2 = 0.493\n",
      "\n",
      "(Step) Excluded = s4,s2,age,sex,s6,s3\n",
      "(Step) Trying s4...\n",
      "(Step) - Feature = bmi,s5,bp,s1,s4\n",
      "(Step) - Adjusted R^2: This = 0.500; Best = 0.493\n",
      "(Step) - New Best!   : Feature = s4; R^2 = 0.507; Adjusted R^2 = 0.500\n",
      "(Step) Trying s2...\n",
      "(Step) - Feature = bmi,s5,bp,s1,s2\n",
      "(Step) - Adjusted R^2: This = 0.502; Best = 0.500\n",
      "(Step) - New Best!   : Feature = s2; R^2 = 0.509; Adjusted R^2 = 0.502\n",
      "(Step) Trying age...\n",
      "(Step) - Feature = bmi,s5,bp,s1,age\n",
      "(Step) - Adjusted R^2: This = 0.492; Best = 0.502\n",
      "(Step) Trying sex...\n",
      "(Step) - Feature = bmi,s5,bp,s1,sex\n",
      "(Step) - Adjusted R^2: This = 0.498; Best = 0.502\n",
      "(Step) Trying s6...\n",
      "(Step) - Feature = bmi,s5,bp,s1,s6\n",
      "(Step) - Adjusted R^2: This = 0.493; Best = 0.502\n",
      "(Step) Trying s3...\n",
      "(Step) - Feature = bmi,s5,bp,s1,s3\n",
      "(Step) - Adjusted R^2: This = 0.499; Best = 0.502\n",
      "Added feature s2 with R^2 = 0.509 and adjusted R^2 = 0.502\n",
      "\n",
      "(Step) Excluded = s4,age,sex,s6,s3\n",
      "(Step) Trying s4...\n",
      "(Step) - Feature = bmi,s5,bp,s1,s2,s4\n",
      "(Step) - Adjusted R^2: This = 0.501; Best = 0.502\n",
      "(Step) Trying age...\n",
      "(Step) - Feature = bmi,s5,bp,s1,s2,age\n",
      "(Step) - Adjusted R^2: This = 0.500; Best = 0.502\n",
      "(Step) Trying sex...\n",
      "(Step) - Feature = bmi,s5,bp,s1,s2,sex\n",
      "(Step) - Adjusted R^2: This = 0.515; Best = 0.502\n",
      "(Step) - New Best!   : Feature = sex; R^2 = 0.523; Adjusted R^2 = 0.515\n",
      "(Step) Trying s6...\n",
      "(Step) - Feature = bmi,s5,bp,s1,s2,s6\n",
      "(Step) - Adjusted R^2: This = 0.501; Best = 0.515\n",
      "(Step) Trying s3...\n",
      "(Step) - Feature = bmi,s5,bp,s1,s2,s3\n",
      "(Step) - Adjusted R^2: This = 0.500; Best = 0.515\n",
      "Added feature sex with R^2 = 0.523 and adjusted R^2 = 0.515\n",
      "\n",
      "(Step) Excluded = s4,s6,s3,age\n",
      "(Step) Trying s4...\n",
      "(Step) - Feature = bmi,s5,bp,s1,s2,sex,s4\n",
      "(Step) - Adjusted R^2: This = 0.516; Best = 0.515\n",
      "(Step) - New Best!   : Feature = s4; R^2 = 0.526; Adjusted R^2 = 0.516\n",
      "(Step) Trying s6...\n",
      "(Step) - Feature = bmi,s5,bp,s1,s2,sex,s6\n",
      "(Step) - Adjusted R^2: This = 0.515; Best = 0.516\n",
      "(Step) Trying s3...\n",
      "(Step) - Feature = bmi,s5,bp,s1,s2,sex,s3\n",
      "(Step) - Adjusted R^2: This = 0.514; Best = 0.516\n",
      "(Step) Trying age...\n",
      "(Step) - Feature = bmi,s5,bp,s1,s2,sex,age\n",
      "(Step) - Adjusted R^2: This = 0.514; Best = 0.516\n",
      "Added feature s4 with R^2 = 0.526 and adjusted R^2 = 0.516\n",
      "\n",
      "(Step) Excluded = s6,s3,age\n",
      "(Step) Trying s6...\n",
      "(Step) - Feature = bmi,s5,bp,s1,s2,sex,s4,s6\n",
      "(Step) - Adjusted R^2: This = 0.516; Best = 0.516\n",
      "(Step) Trying s3...\n",
      "(Step) - Feature = bmi,s5,bp,s1,s2,sex,s4,s3\n",
      "(Step) - Adjusted R^2: This = 0.516; Best = 0.516\n",
      "(Step) Trying age...\n",
      "(Step) - Feature = bmi,s5,bp,s1,s2,sex,s4,age\n",
      "(Step) - Adjusted R^2: This = 0.516; Best = 0.516\n",
      "**************************************************\n",
      "\n",
      "Resulting features:\n",
      "bmi, s5, bp, s1, s2, sex, s4\n"
     ]
    }
   ],
   "source": [
    "## Use Forward Feature Selection to pick a good model\n",
    "\n",
    "# start with no predictors\n",
    "included = []\n",
    "# keep track of model and parameters\n",
    "best = {'feature': '', 'r2': 0, 'a_r2': 0}\n",
    "# create a model object to hold the modelling parameters\n",
    "model = LinearRegression()\n",
    "# get the number of cases in the training data\n",
    "n = X_train.shape[0]\n",
    "\n",
    "r2_list = []\n",
    "adjusted_r2_list = []\n",
    "\n",
    "while True:\n",
    "    changed = False\n",
    "\n",
    "    if show_steps:\n",
    "        print('')\n",
    "\n",
    "    # List the features to be evaluated\n",
    "    excluded = list(set(X.columns) - set(included))\n",
    "\n",
    "    if show_steps:\n",
    "        print(f\"(Step) Excluded = {','.join(excluded)}\")\n",
    "\n",
    "    # for each remaining feature to be evaluated\n",
    "    for new_column in excluded:\n",
    "        \n",
    "        if show_steps:\n",
    "            print(f\"(Step) Trying {new_column}...\")\n",
    "            print(f\"(Step) - Feature = {','.join(included + [new_column])}\")\n",
    "\n",
    "        # fit the model with the Training data\n",
    "        fit = model.fit(X_train[included + [new_column]], y_train)\n",
    "        # calculate the score (R^2 for Regression)\n",
    "        r2 = model.score(X_train[included + [new_column]], y_train)\n",
    "\n",
    "        # number of predictors in this model\n",
    "        k = len(included) + 1\n",
    "        # calculate the adjusted R^2\n",
    "        adjusted_r2 = 1 - (((1 - r2) * (n - 1)) / (n - k - 1))\n",
    "\n",
    "        if show_steps:\n",
    "            print(f\"(Step) - Adjusted R^2: This = {adjusted_r2:.3f}; Best = {best['a_r2']:.3f}\")\n",
    "\n",
    "        # if model improves\n",
    "        if adjusted_r2 > best['a_r2']:\n",
    "            # recored new parameters\n",
    "            best = {'feature': new_column, 'r2': r2, 'a_r2': adjusted_r2}\n",
    "            # flag that found a better model\n",
    "            changed = True\n",
    "            if show_steps:\n",
    "                print(f\"(Step) - New Best!   : Feature = {best['feature']}; R^2 = {best['r2']:.3f}; Adjusted R^2 = {best['a_r2']:.3f}\")\n",
    "     # END for\n",
    "\n",
    "    r2_list.append(best['r2'])\n",
    "    adjusted_r2_list.append(best['a_r2'])\n",
    "\n",
    "    # if found a better model after testing all remianing features\n",
    "    if changed:\n",
    "        # update control details\n",
    "        included.append(best['feature'])\n",
    "        excluded = list(set(excluded) - set(best['feature']))\n",
    "        print(f\"Added feature {best['feature']} with R^2 = {best['r2']:.3f} and adjusted R^2 = {best['a_r2']:.3f}\")\n",
    "    else:\n",
    "        # terminate if no better model\n",
    "        print('*'*50)\n",
    "        break\n",
    "\n",
    "print('')\n",
    "print('Resulting features:')\n",
    "print(', '.join(included))"
   ]
  },
  {
   "cell_type": "code",
   "execution_count": 15,
   "metadata": {
    "colab": {
     "base_uri": "https://localhost:8080/",
     "height": 337
    },
    "id": "whvMHo6rsjoU",
    "outputId": "0f05a34f-f5bd-46ac-9798-73b43c8e4d95"
   },
   "outputs": [
    {
     "data": {
      "image/png": "[encoded data removed]",
      "text/plain": [
       "<Figure size 1000x500 with 1 Axes>"
      ]
     },
     "metadata": {},
     "output_type": "display_data"
    }
   ],
   "source": [
    "## Chart both R^2 and Adjusted R^2\n",
    "\n",
    "_range = range(1, len(r2_list)+1)\n",
    "\n",
    "# define chart size\n",
    "plt.figure(figsize = (10, 5))\n",
    "# plot each metric\n",
    "plt.plot(_range, r2_list, label = '$R^2$')\n",
    "plt.plot(_range, adjusted_r2_list, label = '$Adjusted : R^2$')\n",
    "# add some better visualisation\n",
    "plt.xlabel('Number of Features')\n",
    "plt.legend()\n",
    "# output the chart\n",
    "plt.show()"
   ]
  },
  {
   "cell_type": "markdown",
   "metadata": {
    "id": "ZNsyA27Dlwxs"
   },
   "source": [
    "\n",
    "\n",
    "---\n",
    "\n",
    "\n",
    "\n",
    "---\n",
    "\n",
    "\n",
    "\n",
    "> > > > > > > > > © 2024 Institute of Data\n",
    "\n",
    "\n",
    "---\n",
    "\n",
    "\n",
    "\n",
    "---\n",
    "\n",
    "\n",
    "\n"
   ]
  }
 ],
 "metadata": {
  "colab": {
   "provenance": []
  },
  "kernelspec": {
   "display_name": "Python [conda env:base] *",
   "language": "python",
   "name": "conda-base-py"
  },
  "language_info": {
   "codemirror_mode": {
    "name": "ipython",
    "version": 3
   },
   "file_extension": ".py",
   "mimetype": "text/x-python",
   "name": "python",
   "nbconvert_exporter": "python",
   "pygments_lexer": "ipython3",
   "version": "3.12.7"
  }
 },
 "nbformat": 4,
 "nbformat_minor": 4
}
